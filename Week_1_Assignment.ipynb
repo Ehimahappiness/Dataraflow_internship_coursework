{
  "cells": [
    {
      "cell_type": "markdown",
      "metadata": {
        "id": "view-in-github",
        "colab_type": "text"
      },
      "source": [
        "<a href=\"https://colab.research.google.com/github/Ehimahappiness/Dataraflow_internship_coursework/blob/main/Week_1_Assignment.ipynb\" target=\"_parent\"><img src=\"https://colab.research.google.com/assets/colab-badge.svg\" alt=\"Open In Colab\"/></a>"
      ]
    },
    {
      "cell_type": "markdown",
      "id": "40ad6777-e9e8-4c5e-9b8f-4446315fc205",
      "metadata": {
        "id": "40ad6777-e9e8-4c5e-9b8f-4446315fc205"
      },
      "source": [
        "# Python Crash Course – Practice Materials  \n",
        "\n",
        "Welcome to your practice set! Below are **Tasks**, **Assignments**, and **Assessments** to help you solidify your Python skills and no use of **AI  !!!**.  \n",
        "\n",
        "## Tasks\n",
        "\n",
        "1. Write a Python program to print `\"Hello, World!\"`.\n",
        "2. Create a program that takes a user’s name and age as input, then prints:  \n",
        "   `\"Hello [name], you are [age] years old!\"`.\n",
        "3. Write a program to check whether a number entered by the user is even or odd.\n",
        "4. Create a program that prints the multiplication table of a number (from 1–12).\n",
        "5. Write a program that calculates the factorial of a number using a loop.\n",
        "6. Write a program that finds the largest number in a given list.\n",
        "7. Create a Python program that counts how many vowels are in a given string.\n",
        "8. Write a function that takes two numbers and returns their sum, difference, and product.\n",
        "9. Create a program that reverses a string without using slicing (`[::-1]`).\n",
        "10. Write a program that generates the first 10 numbers of the Fibonacci sequence.\n"
      ]
    },
    {
      "cell_type": "markdown",
      "id": "0975939e-5d06-4c0b-9ec2-bd4baf38953e",
      "metadata": {
        "id": "0975939e-5d06-4c0b-9ec2-bd4baf38953e"
      },
      "source": [
        "## TASK ANSWER"
      ]
    },
    {
      "cell_type": "code",
      "execution_count": null,
      "id": "c053f5b7-0dda-4f75-9bcf-c646bb8aa834",
      "metadata": {
        "id": "c053f5b7-0dda-4f75-9bcf-c646bb8aa834",
        "outputId": "c9972b61-1cb2-4cad-efd9-8b6eb9923325"
      },
      "outputs": [
        {
          "name": "stdout",
          "output_type": "stream",
          "text": [
            "hello, world!\n"
          ]
        }
      ],
      "source": [
        "print(\"hello, world!\")"
      ]
    },
    {
      "cell_type": "code",
      "execution_count": null,
      "id": "d910f8eb-6936-48be-b2ea-a5434d366327",
      "metadata": {
        "id": "d910f8eb-6936-48be-b2ea-a5434d366327",
        "outputId": "f92d3193-57b8-48a8-86fe-6a3e9a0f01db"
      },
      "outputs": [
        {
          "name": "stdout",
          "output_type": "stream",
          "text": [
            "Hello Ehima, you are 25 years old!\n"
          ]
        }
      ],
      "source": [
        "# username input\n",
        "Name = (\"Ehima:\")\n",
        "Age = (\"25:\")\n",
        "\n",
        "print(\"Hello Ehima, you are 25 years old!\")"
      ]
    },
    {
      "cell_type": "code",
      "execution_count": null,
      "id": "4085d0dc-c01b-48c9-8ffb-d1c725d58722",
      "metadata": {
        "id": "4085d0dc-c01b-48c9-8ffb-d1c725d58722",
        "outputId": "0fa06a7a-95b1-4fd6-e627-185dcf723f5c"
      },
      "outputs": [
        {
          "name": "stdout",
          "output_type": "stream",
          "text": [
            "2 is even\n",
            "4 is even\n",
            "6 is even\n",
            "8 is even\n",
            "8 is odd\n"
          ]
        }
      ],
      "source": [
        "# Even or Odd number\n",
        "n = [2,3,4,5,6,7,8,]\n",
        "# Loop through each number in the list\n",
        "for num in n:\n",
        "    if num % 2 == 0:\n",
        "     print(f'{num} is even')\n",
        "else:\n",
        "     print(f'{num} is odd')"
      ]
    },
    {
      "cell_type": "code",
      "execution_count": null,
      "id": "75f91470-25ff-49d5-8d45-9f66e24c80c1",
      "metadata": {
        "id": "75f91470-25ff-49d5-8d45-9f66e24c80c1",
        "outputId": "80a2b51e-8c88-4c10-d16e-ff3471731f5d"
      },
      "outputs": [
        {
          "name": "stdin",
          "output_type": "stream",
          "text": [
            "9:  5\n"
          ]
        },
        {
          "name": "stdout",
          "output_type": "stream",
          "text": [
            "\n",
            "Multiplication Table of 5\n",
            "5 x 1 = 5\n",
            "5 x 2 = 10\n",
            "5 x 3 = 15\n",
            "5 x 4 = 20\n",
            "5 x 5 = 25\n",
            "5 x 6 = 30\n",
            "5 x 7 = 35\n",
            "5 x 8 = 40\n",
            "5 x 9 = 45\n",
            "5 x 10 = 50\n",
            "5 x 11 = 55\n",
            "5 x 12 = 60\n"
          ]
        }
      ],
      "source": [
        "# 4. The multiplication table of a number (from 1–12)\n",
        "\n",
        "# Ask for user input\n",
        "num = int(input(\"9: \"))\n",
        "\n",
        "# Print the multiplication table from 1 to 12\n",
        "print(f\"\\nMultiplication Table of {num}\")\n",
        "for i in range(1, 13):\n",
        "    print(f\"{num} x {i} = {num * i}\")\n"
      ]
    },
    {
      "cell_type": "code",
      "execution_count": null,
      "id": "76d31cce-1348-4d71-87aa-d20dd7835df0",
      "metadata": {
        "id": "76d31cce-1348-4d71-87aa-d20dd7835df0"
      },
      "outputs": [],
      "source": []
    },
    {
      "cell_type": "code",
      "execution_count": null,
      "id": "523ec9b9-0d9e-4859-b551-fb92d3a1903c",
      "metadata": {
        "id": "523ec9b9-0d9e-4859-b551-fb92d3a1903c",
        "outputId": "a2258789-49a4-4444-e578-2e1105b84142"
      },
      "outputs": [
        {
          "name": "stdin",
          "output_type": "stream",
          "text": [
            "y:  9\n"
          ]
        },
        {
          "name": "stdout",
          "output_type": "stream",
          "text": [
            "362880\n"
          ]
        }
      ],
      "source": [
        "# 5. Calculates the factorial of a number using a loop.\n",
        "\n",
        "# Ask for user input\n",
        "factx = input(\"y: \")\n",
        "\n",
        "#convert factx into number since it is a text\n",
        "n = int(factx)\n",
        "\n",
        "# Initialize factorial\n",
        "factorial = 1\n",
        "\n",
        "# UsinG a for loop to calculate factorial\n",
        "for i in range(1, n + 1):\n",
        "    factorial *= i\n",
        "\n",
        "print(factorial)\n"
      ]
    },
    {
      "cell_type": "code",
      "execution_count": null,
      "id": "80b8735a-12a2-47c0-8082-a0075091de1a",
      "metadata": {
        "id": "80b8735a-12a2-47c0-8082-a0075091de1a"
      },
      "outputs": [],
      "source": []
    },
    {
      "cell_type": "code",
      "execution_count": null,
      "id": "7333fee0-cedb-4c9e-8ccd-4249fbe4da5e",
      "metadata": {
        "id": "7333fee0-cedb-4c9e-8ccd-4249fbe4da5e",
        "outputId": "93cea163-e522-4c6a-f236-0295f4422a5e"
      },
      "outputs": [
        {
          "name": "stdout",
          "output_type": "stream",
          "text": [
            "215\n"
          ]
        }
      ],
      "source": [
        "# 6. Write a program that finds the largest number in a given list.\n",
        "\n",
        "Q = (15, 28, 150, 67, 99, 215)\n",
        "# Find the largest number\n",
        "largest = max(Q)\n",
        "print(largest)"
      ]
    },
    {
      "cell_type": "code",
      "execution_count": null,
      "id": "a0827ad6-fb6d-4e0b-a68d-c7161157a47c",
      "metadata": {
        "id": "a0827ad6-fb6d-4e0b-a68d-c7161157a47c",
        "outputId": "9a9f5628-80bc-4095-8fd9-31acc8c96d5a"
      },
      "outputs": [
        {
          "name": "stdout",
          "output_type": "stream",
          "text": [
            "5\n"
          ]
        }
      ],
      "source": [
        "# 7. Create a Python program that counts how many vowels are in a given string.\n",
        "text = \"beautiful\"\n",
        "\n",
        "vowels = \"aeiou\"\n",
        "count = sum(text.count(vowel) for vowel in vowels)\n",
        "print(count)"
      ]
    },
    {
      "cell_type": "code",
      "execution_count": null,
      "id": "da1f0fe2-414b-4815-b859-5bf652fb41b8",
      "metadata": {
        "id": "da1f0fe2-414b-4815-b859-5bf652fb41b8",
        "outputId": "b29c0108-ac06-42eb-aa11-3ea2d76acb88"
      },
      "outputs": [
        {
          "name": "stdout",
          "output_type": "stream",
          "text": [
            "42\n",
            "-6\n",
            "432\n"
          ]
        }
      ],
      "source": [
        "# 8. Write a function that takes two numbers and returns their sum, difference, and product.\n",
        "\n",
        "\n",
        "def calculate(A, B):\n",
        "    sum_result = A + B\n",
        "    difference = A - B\n",
        "    product = A * B\n",
        "    return sum_result, difference, product\n",
        "\n",
        "A = (18)\n",
        "B = (24)\n",
        "\n",
        "\n",
        "print(sum_result)\n",
        "print(difference)\n",
        "print(product)\n"
      ]
    },
    {
      "cell_type": "code",
      "execution_count": null,
      "id": "864dc89c-1944-4c7c-8fdc-0b9d0ae98425",
      "metadata": {
        "id": "864dc89c-1944-4c7c-8fdc-0b9d0ae98425",
        "outputId": "1e32faa6-19c6-4cfd-fb9d-d88ac5d174f2"
      },
      "outputs": [
        {
          "name": "stdout",
          "output_type": "stream",
          "text": [
            "edam yllufituaeb\n"
          ]
        }
      ],
      "source": [
        "# 9.  Create a program that reverses a string without using slicing (`[::-1]`).\n",
        "\n",
        "text = \"beautifully made\"\n",
        "\n",
        "reversed_text = \"\"\n",
        "\n",
        "for char in text:\n",
        "    reversed_text = char + reversed_text\n",
        "\n",
        "print(reversed_text)"
      ]
    },
    {
      "cell_type": "code",
      "execution_count": null,
      "id": "f812c6c5-d6d2-4748-9618-04f378d6ba02",
      "metadata": {
        "id": "f812c6c5-d6d2-4748-9618-04f378d6ba02"
      },
      "outputs": [],
      "source": []
    },
    {
      "cell_type": "code",
      "execution_count": null,
      "id": "ce5589f6-3ea5-426e-8f8a-da7e47f00882",
      "metadata": {
        "id": "ce5589f6-3ea5-426e-8f8a-da7e47f00882",
        "outputId": "2fa48d1a-4937-415e-8e2a-7b7f078cd561"
      },
      "outputs": [
        {
          "name": "stdout",
          "output_type": "stream",
          "text": [
            "First 10 Fibonacci numbers:\n",
            "[0, 1, 1, 2, 3, 5, 8, 13, 21, 34]\n"
          ]
        }
      ],
      "source": [
        " #10. Write a program that generates the first 10 numbers of the Fibonacci sequence.\n",
        "\n",
        "# first 10 Fibonacci numbers\n",
        "a, b = 0, 1\n",
        "fibonacci_sequence = []\n",
        "\n",
        "for i in range(10):\n",
        "    fibonacci_sequence.append(a)\n",
        "    a, b = b, a + b\n",
        "\n",
        "print(\"First 10 Fibonacci numbers:\")\n",
        "print(fibonacci_sequence)"
      ]
    },
    {
      "cell_type": "code",
      "execution_count": null,
      "id": "e572f30b-c56a-4838-bd87-3b51a2006885",
      "metadata": {
        "id": "e572f30b-c56a-4838-bd87-3b51a2006885"
      },
      "outputs": [],
      "source": []
    },
    {
      "cell_type": "code",
      "execution_count": null,
      "id": "7d700299-0655-4e96-8fed-d3c1de98502d",
      "metadata": {
        "id": "7d700299-0655-4e96-8fed-d3c1de98502d"
      },
      "outputs": [],
      "source": []
    },
    {
      "cell_type": "markdown",
      "id": "f7f0de60-0072-4523-9d91-e8367a2af434",
      "metadata": {
        "id": "f7f0de60-0072-4523-9d91-e8367a2af434"
      },
      "source": [
        "## Assignments\n",
        "\n",
        "1. **Student Grades System**  \n",
        "   Write a program to accept marks for 5 subjects, calculate the average, and display the grade based on:  \n",
        "   - A: 80–100  \n",
        "   - B: 60–79  \n",
        "   - C: 40–59  \n",
        "   - F: < 40  \n",
        "\n",
        "2. **Simple Calculator**  \n",
        "   Build a calculator program that can perform addition, subtraction, multiplication, and division based on user input.\n",
        "\n",
        "3. **Shopping Cart**  \n",
        "   Create a program where a user can add items to a shopping cart (dictionary with item names and prices), then display the total cost.\n",
        "\n",
        "4. **Guessing Game**  \n",
        "   Write a program where the computer randomly selects a number between 1–20, and the user must guess it. Give hints if the guess is too high or too low.\n",
        "\n",
        "5. **File Handling**  \n",
        "   Write a program that accepts a list of student names from the user, saves them in a text file, and then reads and displays them.\n"
      ]
    },
    {
      "cell_type": "code",
      "execution_count": null,
      "id": "9af9edae-29cc-4e6b-a9bf-033b876940de",
      "metadata": {
        "id": "9af9edae-29cc-4e6b-a9bf-033b876940de"
      },
      "outputs": [],
      "source": []
    },
    {
      "cell_type": "markdown",
      "id": "c4cf6c08-e17c-4ee4-b7a6-1a664874ce5a",
      "metadata": {
        "id": "c4cf6c08-e17c-4ee4-b7a6-1a664874ce5a"
      },
      "source": [
        "## Student Grades System"
      ]
    },
    {
      "cell_type": "code",
      "execution_count": null,
      "id": "c4886a53-1ffc-4e84-bc41-bd17abc5584a",
      "metadata": {
        "id": "c4886a53-1ffc-4e84-bc41-bd17abc5584a",
        "outputId": "c12c51bb-eb2e-4b30-fb6d-4ae92384a022"
      },
      "outputs": [
        {
          "name": "stdout",
          "output_type": "stream",
          "text": [
            "Mathematics: 90\n",
            "Physics: 85\n",
            "Chemistry: 70\n",
            "Biology: 80\n",
            "Computer Science: 75\n",
            "Marks: [90, 85, 70, 80, 75]\n",
            "Average Marks: 80.0\n",
            "Grade: A\n"
          ]
        }
      ],
      "source": [
        "#1.\n",
        "marks = [90, 85, 70, 80, 75]\n",
        "subjects = [\"Mathematics\", \"Physics\", \"Chemistry\", \"Biology\", \"Computer Science\"]\n",
        "\n",
        "# Display each subject with its mark\n",
        "for i in range(len(subjects)):\n",
        "    print(f\"{subjects[i]}: {marks[i]}\")\n",
        "\n",
        "# Calculate average\n",
        "average = sum(marks) / 5\n",
        "\n",
        "\n",
        "# Determine grade\n",
        "if 80 <= average <= 100:\n",
        "    grade = \"A\"\n",
        "elif 60 <= average < 79:\n",
        "    grade = \"B\"\n",
        "elif 40 <= average < 59:\n",
        "    grade = \"C\"\n",
        "else:\n",
        "    grade = \"F\"\n",
        "\n",
        "# Display result\n",
        "print(f\"Marks: {marks}\")\n",
        "print(f\"Average Marks: {average}\")\n",
        "print(f\"Grade: {grade}\")"
      ]
    },
    {
      "cell_type": "code",
      "execution_count": null,
      "id": "c4dea024-3c61-4653-a3bb-a29d26f18e04",
      "metadata": {
        "id": "c4dea024-3c61-4653-a3bb-a29d26f18e04"
      },
      "outputs": [],
      "source": []
    },
    {
      "cell_type": "markdown",
      "id": "6d71b434-a188-4760-b86e-003bc998dd77",
      "metadata": {
        "id": "6d71b434-a188-4760-b86e-003bc998dd77"
      },
      "source": [
        "## Simple Calculator"
      ]
    },
    {
      "cell_type": "code",
      "execution_count": null,
      "id": "65230ac0-d876-4c23-95c4-dc21bcd2330b",
      "metadata": {
        "id": "65230ac0-d876-4c23-95c4-dc21bcd2330b",
        "outputId": "b3fe18bb-9023-4e76-9ae7-2b3e05be77c9"
      },
      "outputs": [
        {
          "name": "stdout",
          "output_type": "stream",
          "text": [
            "Add of 10 and 5 = 15\n"
          ]
        }
      ],
      "source": [
        "\n",
        "# 2. Build a calculator program that can perform addition, subtraction, multiplication, and division based on user input.\n",
        "\n",
        "\n",
        "# Simple Calculator Program\n",
        "\n",
        "def calculator(a, b, operation):\n",
        "    if operation == \"add\":\n",
        "        return a + b\n",
        "    elif operation == \"subtract\":\n",
        "        return a - b\n",
        "    elif operation == \"multiply\":\n",
        "        return a * b\n",
        "    elif operation == \"divide\":\n",
        "        if b == 0:\n",
        "            return a / b\n",
        "        else:\n",
        "            return \"Error: Division by zero!\"\n",
        "    else:\n",
        "        return \"Invalid operation\"\n",
        "\n",
        "# Set numbers and operation directly\n",
        "a = 10\n",
        "b = 5\n",
        "operation = \"add\"\n",
        "\n",
        "result = calculator(a, b, operation)\n",
        "print(f\"{operation.title()} of {a} and {b} = {result}\")"
      ]
    },
    {
      "cell_type": "code",
      "execution_count": null,
      "id": "0b73b3de-422f-48c2-abb1-0385fa92bfc1",
      "metadata": {
        "id": "0b73b3de-422f-48c2-abb1-0385fa92bfc1"
      },
      "outputs": [],
      "source": []
    },
    {
      "cell_type": "markdown",
      "id": "a66cda9b-cb58-43fb-9486-48dc5778209c",
      "metadata": {
        "id": "a66cda9b-cb58-43fb-9486-48dc5778209c"
      },
      "source": [
        "## Shopping Cart"
      ]
    },
    {
      "cell_type": "code",
      "execution_count": null,
      "id": "f2a8b0d4-9074-425d-bd5e-fd334db26459",
      "metadata": {
        "id": "f2a8b0d4-9074-425d-bd5e-fd334db26459",
        "outputId": "9d9760f8-18c0-48fb-9568-7e03219ebc75"
      },
      "outputs": [
        {
          "name": "stdin",
          "output_type": "stream",
          "text": [
            "Mango (or 'done' to finish):  done\n"
          ]
        },
        {
          "name": "stdout",
          "output_type": "stream",
          "text": [
            "\n",
            "Shopping Cart:\n",
            "\n",
            "Total Cost: $0.00\n"
          ]
        }
      ],
      "source": [
        "# Shopping Cart Program\n",
        "\n",
        "cart = {}  # dictionary to store items and prices\n",
        "\n",
        "while True:\n",
        "    item = input(\"Mango (or 'done' to finish): \").title()\n",
        "    if item.lower() == \"done\":\n",
        "        break\n",
        "    price = float(input(f\"2.50 {item}: \"))\n",
        "    cart[item] = price  # add item to cart\n",
        "\n",
        "# Calculate total cost\n",
        "total = sum(cart.values())\n",
        "\n",
        "# Display cart and total\n",
        "print(\"\\nShopping Cart:\")\n",
        "for item, price in cart.items():\n",
        "    print(f\"{item}: ${price: .2f }\")\n",
        "\n",
        "print(f\"\\nTotal Cost: ${total:.2f}\")\n",
        "\n"
      ]
    },
    {
      "cell_type": "code",
      "execution_count": null,
      "id": "f92cb3ee-26be-4b30-b77f-6ed4dd04a36a",
      "metadata": {
        "id": "f92cb3ee-26be-4b30-b77f-6ed4dd04a36a"
      },
      "outputs": [],
      "source": []
    },
    {
      "cell_type": "markdown",
      "id": "afd36c1f-022a-4e9d-ac7b-4c4eaee5786e",
      "metadata": {
        "id": "afd36c1f-022a-4e9d-ac7b-4c4eaee5786e"
      },
      "source": [
        "## Guessing Game"
      ]
    },
    {
      "cell_type": "code",
      "execution_count": null,
      "id": "43eaff74-a3e5-477e-aa31-2d2d77f4198b",
      "metadata": {
        "id": "43eaff74-a3e5-477e-aa31-2d2d77f4198b",
        "outputId": "12452892-6683-4103-a2df-b0981c90ac29"
      },
      "outputs": [
        {
          "name": "stdout",
          "output_type": "stream",
          "text": [
            "I'm thinking of a number between 1 and 20.\n"
          ]
        },
        {
          "name": "stdin",
          "output_type": "stream",
          "text": [
            "Take a guess:  5\n"
          ]
        },
        {
          "name": "stdout",
          "output_type": "stream",
          "text": [
            "Too low! Try again.\n"
          ]
        },
        {
          "name": "stdin",
          "output_type": "stream",
          "text": [
            "Take a guess:  6\n"
          ]
        },
        {
          "name": "stdout",
          "output_type": "stream",
          "text": [
            "🎉 Correct! The number was 6.\n"
          ]
        }
      ],
      "source": [
        "import random\n",
        "\n",
        "# Computer selects a random number between 1 and 20\n",
        "secret_number = random.randint(1, 20)\n",
        "\n",
        "print(\"I'm thinking of a number between 1 and 20.\")\n",
        "\n",
        "while True:\n",
        "    guess = int(input(\"Take a guess: \"))\n",
        "\n",
        "    if guess < secret_number:\n",
        "        print(\"Too low! Try again.\")\n",
        "    elif guess > secret_number:\n",
        "        print(\"Too high! Try again.\")\n",
        "    else:\n",
        "        print(f\"🎉 Correct! The number was {secret_number}.\")\n",
        "        break\n",
        "\n"
      ]
    },
    {
      "cell_type": "raw",
      "id": "23ab7ce7-93d4-457f-a3b3-d1223ccb28e1",
      "metadata": {
        "id": "23ab7ce7-93d4-457f-a3b3-d1223ccb28e1"
      },
      "source": []
    },
    {
      "cell_type": "markdown",
      "id": "d5cb5ef0-01ba-46c1-8e87-d16f0f1365f4",
      "metadata": {
        "id": "d5cb5ef0-01ba-46c1-8e87-d16f0f1365f4"
      },
      "source": [
        "## File Handling"
      ]
    },
    {
      "cell_type": "code",
      "execution_count": null,
      "id": "1958b324-8efc-4649-ae34-4723f6b9a06b",
      "metadata": {
        "id": "1958b324-8efc-4649-ae34-4723f6b9a06b"
      },
      "outputs": [],
      "source": []
    },
    {
      "cell_type": "code",
      "execution_count": null,
      "id": "e6326ccf-5a92-416b-a0df-60b9d6865f9d",
      "metadata": {
        "id": "e6326ccf-5a92-416b-a0df-60b9d6865f9d",
        "outputId": "460ed679-e058-4cc5-e7a7-22462c482e50"
      },
      "outputs": [
        {
          "name": "stdout",
          "output_type": "stream",
          "text": [
            "Enter student names (type 'done' when finished):\n"
          ]
        },
        {
          "name": "stdin",
          "output_type": "stream",
          "text": [
            "Name:  Peace\n",
            "Name:  Yuwa\n",
            "Name:  Ehima\n",
            "Name:  Rissa\n",
            "Name:  done\n"
          ]
        },
        {
          "name": "stdout",
          "output_type": "stream",
          "text": [
            "\n",
            "Names saved to 'students.txt'.\n",
            "\n",
            "Reading names from file:\n",
            "Peace\n",
            "\n",
            "Yuwa\n",
            "\n",
            "Ehima\n",
            "\n",
            "Rissa\n",
            "\n"
          ]
        }
      ],
      "source": [
        "# student names\n",
        "students = []\n",
        "\n",
        "print(\"Enter student names (type 'done' when finished):\")\n",
        "while True:\n",
        "    name = input(\"Name: \").title()\n",
        "    if name.lower() == \"done\":\n",
        "        break\n",
        "    students.append(name)\n",
        "\n",
        "# Save names to a text file\n",
        "with open(\"students.txt\", \"w\") as file:\n",
        "    for student in students:\n",
        "        file.write(student + \"\\n\")\n",
        "\n",
        "print(\"\\nNames saved to 'students.txt'.\")\n",
        "\n",
        "# Read and display names\n",
        "print(\"\\nReading names from file:\")\n",
        "with open(\"students.txt\", \"r\") as file:\n",
        "    for line in file:\n",
        "        print(line.title())\n"
      ]
    },
    {
      "cell_type": "code",
      "execution_count": null,
      "id": "a8bda815-0809-49da-8353-e810aab8d88c",
      "metadata": {
        "id": "a8bda815-0809-49da-8353-e810aab8d88c"
      },
      "outputs": [],
      "source": []
    },
    {
      "cell_type": "code",
      "execution_count": null,
      "id": "795a6ca0-30ee-4a37-8a06-a2f5d85cefb5",
      "metadata": {
        "id": "795a6ca0-30ee-4a37-8a06-a2f5d85cefb5"
      },
      "outputs": [],
      "source": []
    },
    {
      "cell_type": "markdown",
      "id": "b0745be2-46bd-4230-9758-43de1dd5cdda",
      "metadata": {
        "id": "b0745be2-46bd-4230-9758-43de1dd5cdda"
      },
      "source": [
        "## 📝 Assessments (15)\n",
        "\n",
        "1. What is the difference between a **list** and a **tuple** in Python?  \n",
        "2. Explain the use of the `if __name__ == \"__main__\":` statement.  \n",
        "3. Write a Python program that swaps two variables without using a third variable.  \n",
        "4. What are Python’s **data types**? Give examples.  \n",
        "5. Write a program that prints all numbers from 1–50, but for multiples of 3 print `\"Fizz\"`, for multiples of 5 print `\"Buzz\"`, and for multiples of both print `\"FizzBuzz\"`.  \n",
        "6. What is the difference between **local** and **global** variables? Provide an example.  \n",
        "7. Write a function that accepts a list of numbers and returns only the even numbers.  \n",
        "8. Explain the difference between **==** and **is** operators in Python.  \n",
        "9. Write a program that counts the number of words in a given text.  \n",
        "10. What are **Python dictionaries**? Write a short program to demonstrate.  \n",
        "11. Write a program to find the second largest number in a list.  \n",
        "12. Explain the difference between **for** and **while** loops. Give an example of each.  \n",
        "13. What are **Python exceptions**? Write a program that handles division by zero.  \n",
        "14. Write a program to check if a string is a palindrome.  \n",
        "15. What is a **Python module** and how do you import it? Give an example.  \n"
      ]
    },
    {
      "cell_type": "code",
      "execution_count": null,
      "id": "4295d838-2d73-42bb-beca-8f5f73927c45",
      "metadata": {
        "id": "4295d838-2d73-42bb-beca-8f5f73927c45"
      },
      "outputs": [],
      "source": []
    },
    {
      "cell_type": "markdown",
      "id": "b5cebfff-71dd-4f10-ba12-3c0a8599091b",
      "metadata": {
        "id": "b5cebfff-71dd-4f10-ba12-3c0a8599091b"
      },
      "source": [
        "## Difference between a list and Tuple\n",
        "\n",
        " A **List** is Mutable while **Tuple** is Immutable\n",
        " A **List** uses square brackets  while **Tuple** uses parentheses"
      ]
    },
    {
      "cell_type": "code",
      "execution_count": null,
      "id": "aae82e94-bd86-4d5f-9bc4-7e326b5843f8",
      "metadata": {
        "id": "aae82e94-bd86-4d5f-9bc4-7e326b5843f8"
      },
      "outputs": [],
      "source": []
    },
    {
      "cell_type": "markdown",
      "id": "4a7cfa85-b7ed-45c2-b8c5-bcc1003618a6",
      "metadata": {
        "id": "4a7cfa85-b7ed-45c2-b8c5-bcc1003618a6"
      },
      "source": [
        " The `if __name__ == \"__main__\":` statement is use to check whether the current Python file is being run directly or being imported as a module into another file."
      ]
    },
    {
      "cell_type": "code",
      "execution_count": null,
      "id": "68fbc59a-e64c-4d67-900c-61b0a5454eb6",
      "metadata": {
        "id": "68fbc59a-e64c-4d67-900c-61b0a5454eb6"
      },
      "outputs": [],
      "source": []
    },
    {
      "cell_type": "code",
      "execution_count": null,
      "id": "544d7c0f-19ae-41c9-866b-2ed05fdb63a2",
      "metadata": {
        "id": "544d7c0f-19ae-41c9-866b-2ed05fdb63a2"
      },
      "outputs": [],
      "source": []
    },
    {
      "cell_type": "code",
      "execution_count": null,
      "id": "4124538f-d9c2-4390-b405-1125d3a1053e",
      "metadata": {
        "id": "4124538f-d9c2-4390-b405-1125d3a1053e",
        "outputId": "b1068bdc-98c7-4a24-b6fa-cc81a01baa32"
      },
      "outputs": [
        {
          "name": "stdout",
          "output_type": "stream",
          "text": [
            "Before swap: a = 5, b = 10\n",
            "After swap: a = 10, b = 5\n"
          ]
        }
      ],
      "source": [
        "## Swap Variables\n",
        "\n",
        "a = 5\n",
        "b = 10\n",
        "\n",
        "print(f\"Before swap: a = {a}, b = {b}\")\n",
        "\n",
        "# Swap without a third variable\n",
        "a, b = b, a\n",
        "\n",
        "print(f\"After swap: a = {a}, b = {b}\")\n"
      ]
    },
    {
      "cell_type": "code",
      "execution_count": null,
      "id": "d0e29981-b94b-4d3c-8764-9c201d98f9fc",
      "metadata": {
        "id": "d0e29981-b94b-4d3c-8764-9c201d98f9fc"
      },
      "outputs": [],
      "source": []
    },
    {
      "cell_type": "markdown",
      "id": "92eb4883-67b1-481b-a824-c33740dd32e7",
      "metadata": {
        "id": "92eb4883-67b1-481b-a824-c33740dd32e7"
      },
      "source": [
        "## Python Data types\n",
        "\n",
        "Is the characteristic of a variable that determines what kind of data it can hold.\n",
        "Examples:\n",
        " - Numbers\n",
        " - String\n",
        " - List\n",
        " - Tuple\n",
        " - Set\n",
        " - Dictionary"
      ]
    },
    {
      "cell_type": "code",
      "execution_count": null,
      "id": "464d65b5-b825-48f1-b2b5-9eccc0727a6b",
      "metadata": {
        "id": "464d65b5-b825-48f1-b2b5-9eccc0727a6b"
      },
      "outputs": [],
      "source": []
    },
    {
      "cell_type": "code",
      "execution_count": null,
      "id": "b126f020-55eb-449d-8b6a-70cbf8529863",
      "metadata": {
        "id": "b126f020-55eb-449d-8b6a-70cbf8529863"
      },
      "outputs": [],
      "source": []
    },
    {
      "cell_type": "markdown",
      "id": "b6e2b34c-5263-4d7f-84eb-842671a7ac69",
      "metadata": {
        "id": "b6e2b34c-5263-4d7f-84eb-842671a7ac69"
      },
      "source": [
        "## `\"FizzBuzz\"`"
      ]
    },
    {
      "cell_type": "code",
      "execution_count": null,
      "id": "8daca736-53ab-479e-bb77-37f155088314",
      "metadata": {
        "id": "8daca736-53ab-479e-bb77-37f155088314",
        "outputId": "ecf506cd-f8d7-4155-931d-08744d545719"
      },
      "outputs": [
        {
          "name": "stdout",
          "output_type": "stream",
          "text": [
            "1\n",
            "2\n",
            "Fizz\n",
            "4\n",
            "Buzz\n",
            "Fizz\n",
            "7\n",
            "8\n",
            "Fizz\n",
            "Buzz\n",
            "11\n",
            "Fizz\n",
            "13\n",
            "14\n",
            "FizzBuzz\n",
            "16\n",
            "17\n",
            "Fizz\n",
            "19\n",
            "Buzz\n",
            "Fizz\n",
            "22\n",
            "23\n",
            "Fizz\n",
            "Buzz\n",
            "26\n",
            "Fizz\n",
            "28\n",
            "29\n",
            "FizzBuzz\n",
            "31\n",
            "32\n",
            "Fizz\n",
            "34\n",
            "Buzz\n",
            "Fizz\n",
            "37\n",
            "38\n",
            "Fizz\n",
            "Buzz\n",
            "41\n",
            "Fizz\n",
            "43\n",
            "44\n",
            "FizzBuzz\n",
            "46\n",
            "47\n",
            "Fizz\n",
            "49\n",
            "Buzz\n"
          ]
        }
      ],
      "source": [
        "# FizzBuzz program\n",
        "for i in range(1, 51):\n",
        "    if i % 3 == 0 and i % 5 == 0:\n",
        "        print(\"FizzBuzz\")\n",
        "    elif i % 3 == 0:\n",
        "        print(\"Fizz\")\n",
        "    elif i % 5 == 0:\n",
        "        print(\"Buzz\")\n",
        "    else:\n",
        "        print(i)\n"
      ]
    },
    {
      "cell_type": "markdown",
      "id": "a3d35480-85c4-4635-9751-eb4cd1830a88",
      "metadata": {
        "id": "a3d35480-85c4-4635-9751-eb4cd1830a88"
      },
      "source": [
        "## Difference between **local** and **global** variables\n",
        "\n",
        " - Local variables: Exist only inside a specific function, can only be used within that function, and created when the function is called, destroyed when the function ends.\n",
        " - Global variables: Exist throughout the entire function and declared outside any function."
      ]
    },
    {
      "cell_type": "code",
      "execution_count": null,
      "id": "3d86b63c-c1f1-41f8-8534-93aab0f249a2",
      "metadata": {
        "id": "3d86b63c-c1f1-41f8-8534-93aab0f249a2",
        "outputId": "0b1c5211-94e7-4ffb-e5e3-dae98415cc84"
      },
      "outputs": [
        {
          "name": "stdout",
          "output_type": "stream",
          "text": [
            "Inside function: x = 10\n",
            "Inside function: y = 5\n",
            "Outside function: x = 10\n"
          ]
        }
      ],
      "source": [
        "# Global variable\n",
        "x = 10\n",
        "\n",
        "def my_function():\n",
        "    # Local variable\n",
        "    y = 5\n",
        "    print(\"Inside function: x =\", x)  # can access global variable\n",
        "    print(\"Inside function: y =\", y)  # local variable\n",
        "\n",
        "my_function()\n",
        "\n",
        "print(\"Outside function: x =\", x)  # global variable still accessible\n",
        "\n"
      ]
    },
    {
      "cell_type": "code",
      "execution_count": null,
      "id": "79df5ba1-db6f-4f12-8e92-df2e831e67e8",
      "metadata": {
        "id": "79df5ba1-db6f-4f12-8e92-df2e831e67e8"
      },
      "outputs": [],
      "source": []
    },
    {
      "cell_type": "code",
      "execution_count": null,
      "id": "2f1d02fd-9567-4ae4-b8ab-4d722c222570",
      "metadata": {
        "id": "2f1d02fd-9567-4ae4-b8ab-4d722c222570",
        "outputId": "7b9d7cae-8cb6-40e1-95a1-2818fcaa40ac"
      },
      "outputs": [
        {
          "name": "stdout",
          "output_type": "stream",
          "text": [
            "[2, 4, 6, 8, 10]\n"
          ]
        }
      ],
      "source": [
        "# 7. Write a function that accepts a list of numbers and returns only the even numbers.\n",
        "\n",
        "\n",
        "def even_numbers(numbers):\n",
        "    even_numbers = []\n",
        "    for num in numbers:\n",
        "        if num % 2 == 0:\n",
        "            even_numbers.append(num)\n",
        "    return even_numbers\n",
        "\n",
        "# Example usage\n",
        "nums = [1, 2, 3, 4, 5, 6, 7, 8, 9, 10]\n",
        "print(even_numbers(nums))\n"
      ]
    },
    {
      "cell_type": "code",
      "execution_count": null,
      "id": "62cfa5f7-bc4b-4ec1-ba4d-fd1bb79a43a5",
      "metadata": {
        "id": "62cfa5f7-bc4b-4ec1-ba4d-fd1bb79a43a5"
      },
      "outputs": [],
      "source": []
    },
    {
      "cell_type": "code",
      "execution_count": null,
      "id": "4ca9fd7d-92d5-414f-b11e-c641d74ec088",
      "metadata": {
        "id": "4ca9fd7d-92d5-414f-b11e-c641d74ec088"
      },
      "outputs": [],
      "source": []
    },
    {
      "cell_type": "markdown",
      "id": "42598c61-e88e-46ee-aa46-fe9964d11ee9",
      "metadata": {
        "id": "42598c61-e88e-46ee-aa46-fe9964d11ee9"
      },
      "source": [
        "# 8. Explain the difference between **==** and **is** operators in Python.  \n",
        "\n",
        "The **==** Checks if the values are the same(compares what is inside) while **is** Checks if two variables refer to the same object in memory(compares where it is stored)."
      ]
    },
    {
      "cell_type": "code",
      "execution_count": null,
      "id": "899b5d7b-264b-4fbd-83bc-caa4016fc0ca",
      "metadata": {
        "id": "899b5d7b-264b-4fbd-83bc-caa4016fc0ca",
        "outputId": "c4c6ff25-17f4-4d4d-d29c-f0d8c3dcc2ad"
      },
      "outputs": [
        {
          "name": "stdout",
          "output_type": "stream",
          "text": [
            "Number of words: 7\n"
          ]
        }
      ],
      "source": [
        "# 9. Write a program that counts the number of words in a given text.\n",
        "\n",
        "def count_words(text):\n",
        "    # Split the text into words using spaces\n",
        "    words = text.split()\n",
        "    return len(words)\n",
        "\n",
        "# Example usage\n",
        "progam = \"Python is related to all programming languages\"\n",
        "print(\"Number of words:\", count_words(progam))\n"
      ]
    },
    {
      "cell_type": "code",
      "execution_count": null,
      "id": "bce45ab6-ff2f-4378-980e-0484bdf72431",
      "metadata": {
        "id": "bce45ab6-ff2f-4378-980e-0484bdf72431",
        "outputId": "5fe4a9a0-3fee-486a-c3dd-29fcaebf4169"
      },
      "outputs": [
        {
          "name": "stdout",
          "output_type": "stream",
          "text": [
            "Name: Grace\n",
            "Age: 18\n",
            "Grade: B\n"
          ]
        }
      ],
      "source": [
        "#What are Python dictionaries? A dictionary is a collection of key:value pairs. Keys are unique, values can be anything. Defined with {}.\n",
        "\n",
        "    # Example: dictionary of a student\n",
        "student = {\"name\": \"Grace\", \"age\": 18, \"grade\": \"B\"}\n",
        "\n",
        "# Accessing values\n",
        "print(\"Name:\", student[\"name\"])\n",
        "print(\"Age:\", student[\"age\"])\n",
        "print(\"Grade:\", student[\"grade\"])\n"
      ]
    },
    {
      "cell_type": "code",
      "execution_count": null,
      "id": "b91075fa-21b3-4456-97c2-8432ac8521db",
      "metadata": {
        "id": "b91075fa-21b3-4456-97c2-8432ac8521db",
        "outputId": "3281210f-3a15-4501-9da7-3231ad1c153f"
      },
      "outputs": [
        {
          "name": "stdout",
          "output_type": "stream",
          "text": [
            "Second largest number is: 45\n"
          ]
        }
      ],
      "source": [
        "# 11. Program to find the second largest number in a list\n",
        "\n",
        "numbers = [10, 20, 4, 45, 99, 99]\n",
        "\n",
        "largest_numbers = list(set(numbers))  # remove duplicates\n",
        "largest_numbers.sort()\n",
        "\n",
        "second_largest = largest_numbers[-2]\n",
        "print(\"Second largest number is:\", second_largest)"
      ]
    },
    {
      "cell_type": "markdown",
      "id": "2546e4a8-cb13-4885-81c9-ad9842097af0",
      "metadata": {
        "id": "2546e4a8-cb13-4885-81c9-ad9842097af0"
      },
      "source": [
        "12. ## Difference between for and while loops#\n",
        "\n",
        " - **for loop** is used when you know how many times you want to loop.\n",
        " - **while loop** is used when you want to loop until a condition is false."
      ]
    },
    {
      "cell_type": "code",
      "execution_count": null,
      "id": "dbd624c6-388e-4548-9ec7-d4281619dccb",
      "metadata": {
        "id": "dbd624c6-388e-4548-9ec7-d4281619dccb",
        "outputId": "b917e248-4536-4c0d-85af-624b3f686029"
      },
      "outputs": [
        {
          "name": "stdout",
          "output_type": "stream",
          "text": [
            "For loop: 1\n",
            "For loop: 2\n",
            "For loop: 3\n",
            "For loop: 4\n",
            "For loop: 5\n",
            "While loop: 1\n",
            "While loop: 2\n",
            "While loop: 3\n",
            "While loop: 4\n",
            "While loop: 5\n"
          ]
        }
      ],
      "source": [
        "# For loop example: print numbers 1–5\n",
        "for i in range(1, 6):\n",
        "    print(\"For loop:\", i)\n",
        "\n",
        "# While loop example: print numbers 1–5\n",
        "n = 1\n",
        "while n <= 5:\n",
        "    print(\"While loop:\", n)\n",
        "    n += 1\n"
      ]
    },
    {
      "cell_type": "code",
      "execution_count": null,
      "id": "485b1157-9066-428e-b3f7-739224afc441",
      "metadata": {
        "id": "485b1157-9066-428e-b3f7-739224afc441"
      },
      "outputs": [],
      "source": []
    },
    {
      "cell_type": "code",
      "execution_count": null,
      "id": "b95d2ea1-b0eb-4058-b1c6-5fe441efbc6f",
      "metadata": {
        "id": "b95d2ea1-b0eb-4058-b1c6-5fe441efbc6f",
        "outputId": "2109457c-0b96-419c-abca-7b4654d39d24"
      },
      "outputs": [
        {
          "name": "stdout",
          "output_type": "stream",
          "text": [
            "Error: Cannot divide by zero!\n"
          ]
        }
      ],
      "source": [
        "# 13. What are Python exceptions? Exceptions are errors that happen during program execution.\n",
        "\n",
        "\n",
        "try:\n",
        "    a = 10\n",
        "    b = 0\n",
        "    result = a / b\n",
        "    print(\"Result:\", result)\n",
        "except ZeroDivisionError:\n",
        "    print(\"Error: Cannot divide by zero!\")\n",
        "\n"
      ]
    },
    {
      "cell_type": "code",
      "execution_count": null,
      "id": "9300b6fa-3167-42a8-8ed5-da48841bfe53",
      "metadata": {
        "id": "9300b6fa-3167-42a8-8ed5-da48841bfe53",
        "outputId": "2041b924-030e-48ca-dd2a-3103dcc8c97d"
      },
      "outputs": [
        {
          "name": "stdout",
          "output_type": "stream",
          "text": [
            "Madam is palindrome? True\n"
          ]
        }
      ],
      "source": [
        "# 14. Program to check if a string is a palindrome? A palindrome is the same forwards and backwards.\n",
        "\n",
        "def is_palindrome(text):\n",
        "    text = text.lower().replace(\" \", \"\")\n",
        "    return text == text[::-1]\n",
        "\n",
        "word = \"Madam\"\n",
        "print(f\"{word} is palindrome? {is_palindrome(word)}\")\n"
      ]
    },
    {
      "cell_type": "markdown",
      "id": "24d42fa1-6c80-416b-a02f-6887fc042821",
      "metadata": {
        "id": "24d42fa1-6c80-416b-a02f-6887fc042821"
      },
      "source": [
        "15. What is a Python module?\n",
        " - A module is a file that contains Python code (functions, classes, variables).\n",
        " - You can import modules to reuse code."
      ]
    },
    {
      "cell_type": "code",
      "execution_count": null,
      "id": "e3f15a2f-a08e-4da5-b8e1-7034c8abdde1",
      "metadata": {
        "id": "e3f15a2f-a08e-4da5-b8e1-7034c8abdde1",
        "outputId": "05fc109b-7334-41bd-adb9-a607cc7cea03"
      },
      "outputs": [
        {
          "name": "stdout",
          "output_type": "stream",
          "text": [
            "Square root of 84 is: 9.16515138991168\n",
            "Value of pi is: 3.141592653589793\n"
          ]
        }
      ],
      "source": [
        "import math\n",
        "\n",
        "print(\"Square root of 84 is:\", math.sqrt(84))\n",
        "print(\"Value of pi is:\", math.pi)\n"
      ]
    },
    {
      "cell_type": "code",
      "execution_count": null,
      "id": "26ef20ae-e31b-4bac-a60f-1ccd81a5babd",
      "metadata": {
        "id": "26ef20ae-e31b-4bac-a60f-1ccd81a5babd"
      },
      "outputs": [],
      "source": []
    },
    {
      "cell_type": "code",
      "execution_count": null,
      "id": "510d5a59-663c-47e3-b345-3b3233c11d3c",
      "metadata": {
        "id": "510d5a59-663c-47e3-b345-3b3233c11d3c"
      },
      "outputs": [],
      "source": []
    },
    {
      "cell_type": "markdown",
      "id": "83a86a2e-7817-4809-8880-a2217154a11e",
      "metadata": {
        "id": "83a86a2e-7817-4809-8880-a2217154a11e"
      },
      "source": []
    },
    {
      "cell_type": "code",
      "execution_count": null,
      "id": "d1bd295e-7ec8-4e3a-b56c-f41a1d042bd7",
      "metadata": {
        "id": "d1bd295e-7ec8-4e3a-b56c-f41a1d042bd7"
      },
      "outputs": [],
      "source": []
    },
    {
      "cell_type": "markdown",
      "id": "1e054bca-f722-4139-9c6c-3972c17e7657",
      "metadata": {
        "id": "1e054bca-f722-4139-9c6c-3972c17e7657"
      },
      "source": [
        "## Provide link to your publication"
      ]
    },
    {
      "cell_type": "markdown",
      "id": "083979e8-b136-41d2-846d-2d18680e9034",
      "metadata": {
        "id": "083979e8-b136-41d2-846d-2d18680e9034"
      },
      "source": [
        "https://setting-up-git-and-ssh-keys-on-mac.hashnode.dev/embarking-on-a-data-science-journey-my-first-week-as-an-intern"
      ]
    },
    {
      "cell_type": "code",
      "execution_count": null,
      "id": "9cb970e9-dc5a-4033-be79-2c62eae1a79c",
      "metadata": {
        "id": "9cb970e9-dc5a-4033-be79-2c62eae1a79c"
      },
      "outputs": [],
      "source": []
    }
  ],
  "metadata": {
    "kernelspec": {
      "display_name": "Python [conda env:base] *",
      "language": "python",
      "name": "conda-base-py"
    },
    "language_info": {
      "codemirror_mode": {
        "name": "ipython",
        "version": 3
      },
      "file_extension": ".py",
      "mimetype": "text/x-python",
      "name": "python",
      "nbconvert_exporter": "python",
      "pygments_lexer": "ipython3",
      "version": "3.12.7"
    },
    "colab": {
      "provenance": [],
      "include_colab_link": true
    }
  },
  "nbformat": 4,
  "nbformat_minor": 5
}