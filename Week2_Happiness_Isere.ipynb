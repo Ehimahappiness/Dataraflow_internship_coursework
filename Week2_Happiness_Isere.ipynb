{
  "cells": [
    {
      "cell_type": "markdown",
      "metadata": {
        "id": "view-in-github",
        "colab_type": "text"
      },
      "source": [
        "<a href=\"https://colab.research.google.com/github/Ehimahappiness/Dataraflow_internship_coursework/blob/main/Week2_Happiness_Isere.ipynb\" target=\"_parent\"><img src=\"https://colab.research.google.com/assets/colab-badge.svg\" alt=\"Open In Colab\"/></a>"
      ]
    },
    {
      "cell_type": "markdown",
      "id": "3454a13a-2011-4df5-b872-f5cff3794998",
      "metadata": {
        "id": "3454a13a-2011-4df5-b872-f5cff3794998"
      },
      "source": [
        "## Task - Course 1 OOP\n",
        "\n",
        "1. When the class object is represented as a string, there is a method that controls what should be returned, which one?\n",
        "\n",
        "2. What is a correct syntax for deleting an object named person in Python?\n",
        "\n",
        "3. Create a class named MyClass:\n",
        "\n",
        "4. Create an object of MyClass called p1:\n",
        "\n",
        "5. Use the p1 object to print the value of x:\n",
        "\n",
        "6. What is the correct syntax to assign a \"init\" method to a class?\n",
        "\n",
        "7. Insert the missing parts to make the code return: John(36):\n"
      ]
    },
    {
      "cell_type": "code",
      "execution_count": null,
      "id": "839f5243-9fcf-41f3-986a-7d86a7c1cff5",
      "metadata": {
        "id": "839f5243-9fcf-41f3-986a-7d86a7c1cff5"
      },
      "outputs": [],
      "source": [
        " ___ Person:\n",
        "  ___  ___ (self, name, age):\n",
        "    self.name = name\n",
        "    self.age = age\n",
        "  def ___(self):\n",
        "    return f'{___.___}({self.___})\n",
        "p1 = Person('John', 36)\n",
        "print(p1)"
      ]
    },
    {
      "cell_type": "markdown",
      "id": "e6319d43-fea8-426b-b59a-4062397637a4",
      "metadata": {
        "id": "e6319d43-fea8-426b-b59a-4062397637a4"
      },
      "source": [
        "## Answer to OOP"
      ]
    },
    {
      "cell_type": "markdown",
      "id": "84ecd49c-9053-46f3-872f-398e8c2740cc",
      "metadata": {
        "id": "84ecd49c-9053-46f3-872f-398e8c2740cc"
      },
      "source": [
        "1. The `__str__()` Method  \n",
        "\n",
        "2. The `del` keyword\n",
        "\n",
        "3. class Myclass:\n",
        "     x = 8\n",
        "   print(Myclass)\n",
        "\n",
        "4.  p1 = Myclass()\n",
        "    \n",
        "\n",
        "5.  print(p1.x)\n",
        "\n",
        "6. The `__init__()` method\n"
      ]
    },
    {
      "cell_type": "code",
      "execution_count": null,
      "id": "899fa6c5-3fcd-47c9-a74a-a1c3af42d794",
      "metadata": {
        "id": "899fa6c5-3fcd-47c9-a74a-a1c3af42d794",
        "outputId": "1ea59dbd-2482-4d00-c45f-f0fea67c1b2e"
      },
      "outputs": [
        {
          "name": "stdout",
          "output_type": "stream",
          "text": [
            "John(36)\n"
          ]
        }
      ],
      "source": [
        " # Answer 7\n",
        "class Person:\n",
        "  def __init__ (self, name, age):\n",
        "    self.name = name\n",
        "    self.age = age\n",
        "\n",
        "  def __str__(self):\n",
        "    return f'{self.name}({self.age})'\n",
        "p1 = Person('John', 36)\n",
        "print(p1)"
      ]
    },
    {
      "cell_type": "code",
      "execution_count": null,
      "id": "8073406c-fcc3-4cf0-b02e-2e05b5e4c080",
      "metadata": {
        "id": "8073406c-fcc3-4cf0-b02e-2e05b5e4c080"
      },
      "outputs": [],
      "source": []
    },
    {
      "cell_type": "markdown",
      "id": "d830b497-aa80-445e-aa9d-e13ccffdb4a8",
      "metadata": {
        "id": "d830b497-aa80-445e-aa9d-e13ccffdb4a8"
      },
      "source": [
        "## Task for course Two\n",
        "\n",
        "1. What is the correct keyword to use inside an empty class, to avoid getting an error?\n",
        "\n",
        "2. What is the correct syntax to create a class named `Student` that will inherit properties and methods from a class named `Person`?\n",
        "\n",
        "3. You have used the `Student` class that has a method `printname` to create an object named `x`.\n",
        "\n",
        "  What is the correct syntax to execute the `printname` method of the object `x`?\n",
        "\n",
        "4. - Create a base class `Animal` with attributes `name` and `sound`, and a method `make_sound()`.\n",
        "- Create two subclasses `Dog` and `Cat` that inherit from `Animal` and override `make_sound()` to print `\"Woof!\"` and `\"Meow!\"` respectively.\n",
        "- Create objects of each subclass and call their methods.\n",
        "\n",
        "5. - Create a base class `Shape` with a method `area()` that raises `NotImplementedError`.\n",
        "- Create subclasses `Rectangle` and `Circle` that implement `area()` appropriately.\n",
        "- Instantiate both and print their areas.\n",
        "\n",
        "6. - Create a base class `BankAccount` with `owner`, `balance`, and methods `deposit()` and `withdraw()`.\n",
        "- Create a subclass `SavingsAccount` that adds an `interest_rate` and a method `add_interest()` which increases the balance.\n",
        "- Demonstrate deposits, withdrawals, and interest application.\n",
        "\n",
        "7. - Create a base class `Vehicle` with attributes `brand` and `model`, and a method `display_info()`.\n",
        "- Create a subclass `Car` that adds `doors` and overrides `display_info()`.\n",
        "- Create another subclass `ElectricCar` (child of `Car`) that adds `battery_capacity` and overrides `display_info()` to include all details.\n",
        "- Create an `ElectricCar` object and call `display_info()`."
      ]
    },
    {
      "cell_type": "code",
      "execution_count": null,
      "id": "cc7ca473-e5bf-46a1-acc0-b197c3f78de7",
      "metadata": {
        "id": "cc7ca473-e5bf-46a1-acc0-b197c3f78de7"
      },
      "outputs": [],
      "source": []
    },
    {
      "cell_type": "markdown",
      "id": "a3be48ff-9449-46e3-b5ac-bdf760daf5cc",
      "metadata": {
        "id": "a3be48ff-9449-46e3-b5ac-bdf760daf5cc"
      },
      "source": [
        "## Solve Task For - Course 2 Below\n"
      ]
    },
    {
      "cell_type": "markdown",
      "id": "4c0f0109-6065-4a3e-a712-b236636340bc",
      "metadata": {
        "id": "4c0f0109-6065-4a3e-a712-b236636340bc"
      },
      "source": [
        "1. The `pass` keyword\n",
        "\n",
        "2. class Student(Person):\n",
        "    pass\n",
        "\n",
        "3. x.printname()\n",
        "\n"
      ]
    },
    {
      "cell_type": "code",
      "execution_count": null,
      "id": "1855be4b-7bc9-47b4-8d0e-1e2db2ee988c",
      "metadata": {
        "id": "1855be4b-7bc9-47b4-8d0e-1e2db2ee988c",
        "outputId": "f03f1a6b-1157-42cc-f3a0-df4cf2e1669f"
      },
      "outputs": [
        {
          "name": "stdout",
          "output_type": "stream",
          "text": [
            "Woof!\n",
            "Meow!\n"
          ]
        }
      ],
      "source": [
        "# Answer to Q4.\n",
        "\n",
        "# Base class\n",
        "class Animal:\n",
        "    def __init__(self, name, sound):\n",
        "        self.name = name\n",
        "        self.sound = sound\n",
        "\n",
        "# Add method\n",
        "    def make_sound(self):\n",
        "        print(self.sound)\n",
        "\n",
        "\n",
        "# Subclass Dog\n",
        "class Dog(Animal):\n",
        "    def __init__(self, name):\n",
        "        super().__init__(name, \"Woof!\")\n",
        "\n",
        "    def make_sound(self):\n",
        "        print(\"Woof!\")\n",
        "\n",
        "\n",
        "# Subclass Cat\n",
        "class Cat(Animal):\n",
        "    def __init__(self, name):\n",
        "        super().__init__(name, \"Meow!\")\n",
        "\n",
        "    def make_sound(self):\n",
        "        print(\"Meow!\")\n",
        "\n",
        "\n",
        "# Create objects of each subclass\n",
        "dog = Dog(\"Buddy\")\n",
        "cat = Cat(\"Whiskers\")\n",
        "\n",
        "# Call their methods\n",
        "dog.make_sound()\n",
        "cat.make_sound()\n"
      ]
    },
    {
      "cell_type": "code",
      "execution_count": null,
      "id": "45f5f898-3780-4825-b59e-d42446013b85",
      "metadata": {
        "id": "45f5f898-3780-4825-b59e-d42446013b85",
        "outputId": "697aab5e-4a5d-40fc-e89b-aadca0f9f8cf"
      },
      "outputs": [
        {
          "name": "stdout",
          "output_type": "stream",
          "text": [
            "Rectangle area: 200\n",
            "Circle area: 254.46900494077323\n"
          ]
        }
      ],
      "source": [
        "# Answer to Q5.\n",
        "\n",
        "import math\n",
        "# Base class\n",
        "class Shape:\n",
        "    def area(self):\n",
        "        raise NotImplementedError(\"Subclasses must implement the area() method.\")\n",
        "\n",
        "\n",
        "# Subclass Rectangle\n",
        "class Rectangle(Shape):\n",
        "    def __init__(self, width, height):\n",
        "        self.width = width\n",
        "        self.height = height\n",
        "\n",
        "    def area(self):\n",
        "        return self.width * self.height\n",
        "\n",
        "\n",
        "# Subclass Circle\n",
        "class Circle(Shape):\n",
        "    def __init__(self, radius):\n",
        "        self.radius = radius\n",
        "\n",
        "    def area(self):\n",
        "        return math.pi * (self.radius ** 2)\n",
        "\n",
        "\n",
        "# Instantiate and print areas\n",
        "rect = Rectangle(20, 10)\n",
        "circle = Circle(9)\n",
        "\n",
        "print(\"Rectangle area:\", rect.area())\n",
        "print(\"Circle area:\", circle.area())\n"
      ]
    },
    {
      "cell_type": "code",
      "execution_count": null,
      "id": "628d3884-bec6-418a-93b8-c67536d2da77",
      "metadata": {
        "id": "628d3884-bec6-418a-93b8-c67536d2da77",
        "outputId": "865effe3-2035-4c48-f501-0d8474d4f686"
      },
      "outputs": [
        {
          "name": "stdout",
          "output_type": "stream",
          "text": [
            "Alice deposited 500. New balance: 1500\n",
            "Alice withdrew 300. New balance: 1200\n",
            "Interest of 60.00 added. New balance: 1260.00\n"
          ]
        }
      ],
      "source": [
        "# Answer to Q6.\n",
        "\n",
        "# Base class\n",
        "class BankAccount:\n",
        "    def __init__(self, owner, balance=0):\n",
        "        self.owner = owner\n",
        "        self.balance = balance\n",
        "\n",
        "    def deposit(self, amount):\n",
        "        if amount > 0:\n",
        "            self.balance += amount\n",
        "            print(f\"{self.owner} deposited {amount}. New balance: {self.balance}\")\n",
        "        else:\n",
        "            print(\"Deposit amount must be positive.\")\n",
        "\n",
        "    def withdraw(self, amount):\n",
        "        if 0 < amount <= self.balance:\n",
        "            self.balance -= amount\n",
        "            print(f\"{self.owner} withdrew {amount}. New balance: {self.balance}\")\n",
        "        else:\n",
        "            print(\"Insufficient funds or invalid amount.\")\n",
        "\n",
        "\n",
        "# Subclass\n",
        "class SavingsAccount(BankAccount):\n",
        "    def __init__(self, owner, balance=0, interest_rate=0.02):\n",
        "        super().__init__(owner, balance)\n",
        "        self.interest_rate = interest_rate\n",
        "\n",
        "    def add_interest(self):\n",
        "        interest = self.balance * self.interest_rate\n",
        "        self.balance += interest\n",
        "        print(f\"Interest of {interest:.2f} added. New balance: {self.balance:.2f}\")\n",
        "\n",
        "\n",
        "# Demonstration\n",
        "account = SavingsAccount(\"Alice\", 1000, 0.05)\n",
        "\n",
        "account.deposit(500)     # Deposit\n",
        "account.withdraw(300)    # Withdraw\n",
        "account.add_interest()   # Apply interest\n"
      ]
    },
    {
      "cell_type": "code",
      "execution_count": null,
      "id": "4ac64268-9cda-414e-b66f-2ce605b43dcb",
      "metadata": {
        "id": "4ac64268-9cda-414e-b66f-2ce605b43dcb",
        "outputId": "c65d7beb-2017-413b-ae59-6fced6e37501"
      },
      "outputs": [
        {
          "name": "stdout",
          "output_type": "stream",
          "text": [
            "Brand: Tesla, Model: Model S, Doors: 8, Battery: 400 kWh\n"
          ]
        }
      ],
      "source": [
        "# Answer to Q7.\n",
        "\n",
        "\n",
        "# Base class\n",
        "class Vehicle:\n",
        "    def __init__(self, brand, model):\n",
        "        self.brand = brand\n",
        "        self.model = model\n",
        "\n",
        "    def display_info(self):\n",
        "        print(f\"Brand: {self.brand}, Model: {self.model}\")\n",
        "\n",
        "\n",
        "# Subclass Car\n",
        "class Car(Vehicle):\n",
        "    def __init__(self, brand, model, doors):\n",
        "        super().__init__(brand, model)\n",
        "        self.doors = doors\n",
        "\n",
        "    def display_info(self):\n",
        "        print(f\"Brand: {self.brand}, Model: {self.model}, Doors: {self.doors}\")\n",
        "\n",
        "\n",
        "# Subclass ElectricCar\n",
        "class ElectricCar(Car):\n",
        "    def __init__(self, brand, model, doors, battery_capacity):\n",
        "        super().__init__(brand, model, doors)\n",
        "        self.battery_capacity = battery_capacity\n",
        "\n",
        "    def display_info(self):\n",
        "        print(\n",
        "            f\"Brand: {self.brand}, Model: {self.model}, \"\n",
        "            f\"Doors: {self.doors}, Battery: {self.battery_capacity} kWh\"\n",
        "        )\n",
        "\n",
        "\n",
        "# Create an ElectricCar object\n",
        "my_ev = ElectricCar(\"Tesla\", \"Model S\", 8, 400)\n",
        "\n",
        "# Call display_info()\n",
        "my_ev.display_info()\n"
      ]
    },
    {
      "cell_type": "code",
      "execution_count": null,
      "id": "3ffca7e4-a027-4040-9a5a-33dae5ee3467",
      "metadata": {
        "id": "3ffca7e4-a027-4040-9a5a-33dae5ee3467"
      },
      "outputs": [],
      "source": []
    },
    {
      "cell_type": "markdown",
      "id": "ac2d5e51-84fa-4f19-8c46-a993a5544c78",
      "metadata": {
        "id": "ac2d5e51-84fa-4f19-8c46-a993a5544c78"
      },
      "source": [
        "## Solve Task For - Course 3 Below\n"
      ]
    },
    {
      "cell_type": "markdown",
      "id": "f040fcbd-45aa-4fee-bed3-772b0488de74",
      "metadata": {
        "id": "f040fcbd-45aa-4fee-bed3-772b0488de74"
      },
      "source": []
    },
    {
      "cell_type": "markdown",
      "id": "47b03987-3929-4c5a-9956-a98470a3f69a",
      "metadata": {
        "id": "47b03987-3929-4c5a-9956-a98470a3f69a"
      },
      "source": [
        "1. There are two methods that you have to implement when you create an iterator, which two?\n",
        "\n",
        "2. Which statement can be used to stop the iteration?\n",
        "\n",
        "3. True or False. Lists, tuples, dictionaries, and sets are all iterable objects and why?.\n",
        "\n",
        "4. - Take a list of numbers `[10, 20, 30, 40, 50]`.  \n",
        "- Convert it into an iterator using `iter()` and retrieve each element using `next()`.  \n",
        "- Handle the `StopIteration` exception gracefully when there are no more items.\n",
        "\n",
        "5. - Create a class `CountDown` that takes a number `n` and counts down to 1.  \n",
        "- Implement the iterator protocol (`__iter__()` and `__next__()` methods).  \n",
        "- Use it in a `for` loop to print numbers in reverse order.\n",
        "\n",
        "6. - Create a class `EvenNumbers` that generates even numbers starting from 0.  \n",
        "- The iterator should be infinite (no `StopIteration`).  \n",
        "- Demonstrate usage by printing the first 10 even numbers using a loop and `break`.\n",
        "\n",
        "7. - Create a custom iterator `FileLineReader` that takes a filename and reads one line at a time.  \n",
        "- Implement `__iter__()` and `__next__()` so it can be used in a `for` loop.  \n",
        "- Test it by reading from a sample `.txt` file and printing each line."
      ]
    },
    {
      "cell_type": "markdown",
      "id": "39b40001-0091-47e1-b32b-920ef11e6d6f",
      "metadata": {
        "id": "39b40001-0091-47e1-b32b-920ef11e6d6f"
      },
      "source": [
        "## Solutions:\n",
        "\n",
        "1. The methods `__iter__()` and `__next__()`.\n",
        "\n",
        "2. The `StopIteration` statement.\n",
        "\n",
        "3. True\n",
        "lists, tuples, dictionaries, and sets are all iterable objects because they implement the\n",
        "iterator protocol meaning they can return their elements one at a time, which allows\n",
        "them to be used in loops and functions like iter() and next()."
      ]
    },
    {
      "cell_type": "code",
      "execution_count": null,
      "id": "70b48681-a7fb-451e-8df7-89094d7208fa",
      "metadata": {
        "id": "70b48681-a7fb-451e-8df7-89094d7208fa"
      },
      "outputs": [],
      "source": []
    },
    {
      "cell_type": "code",
      "execution_count": null,
      "id": "ba800372-2f6b-4326-b3f2-a213ba6334b3",
      "metadata": {
        "id": "ba800372-2f6b-4326-b3f2-a213ba6334b3",
        "outputId": "53eaa967-6286-4158-9ba9-2ce0651ded23"
      },
      "outputs": [
        {
          "name": "stdout",
          "output_type": "stream",
          "text": [
            "10\n",
            "20\n",
            "30\n",
            "40\n",
            "50\n"
          ]
        }
      ],
      "source": [
        "# Answer to Q4.\n",
        "\n",
        "class MyNumbers:\n",
        "    def __init__(self, numbers):\n",
        "        # Store the list of numbers during initialization\n",
        "        self.numbers = numbers\n",
        "        self.index = 0\n",
        "\n",
        "    def __iter__(self):\n",
        "        self.index = 0\n",
        "        return self\n",
        "\n",
        "    def __next__(self):\n",
        "        if self.index < len(self.numbers):\n",
        "            x = self.numbers[self.index]\n",
        "            self.index += 1\n",
        "            return x\n",
        "        else:\n",
        "            raise StopIteration\n",
        "\n",
        "\n",
        "my_list = [10, 20, 30, 40, 50]\n",
        "myclass = MyNumbers(my_list)\n",
        "\n",
        "# Iterate through the items\n",
        "for x in myclass:\n",
        "    print(x)"
      ]
    },
    {
      "cell_type": "code",
      "execution_count": null,
      "id": "34789ea7-2abc-4d34-8596-d11a18d7cf96",
      "metadata": {
        "id": "34789ea7-2abc-4d34-8596-d11a18d7cf96",
        "outputId": "94e8f408-52a9-4b73-cd63-e83d26eec98a"
      },
      "outputs": [
        {
          "name": "stdout",
          "output_type": "stream",
          "text": [
            "10\n",
            "9\n",
            "8\n",
            "7\n",
            "6\n",
            "5\n",
            "4\n",
            "3\n",
            "2\n",
            "1\n"
          ]
        }
      ],
      "source": [
        "# Answer to Q5.\n",
        "\n",
        "class CountDown:\n",
        "    def __init__(self, n):\n",
        "        self.n = n\n",
        "\n",
        "    def __iter__(self):\n",
        "        self.x = self.n\n",
        "        return self\n",
        "\n",
        "    def __next__(self):\n",
        "        if self.x > 0:\n",
        "            val = self.x\n",
        "            self.x -= 1\n",
        "            return val\n",
        "        else:\n",
        "            raise StopIteration\n",
        "\n",
        "\n",
        "\n",
        "countdown = CountDown(10)\n",
        "\n",
        "for num in countdown:\n",
        "    print(num)\n"
      ]
    },
    {
      "cell_type": "code",
      "execution_count": null,
      "id": "95ab8c4c-177a-4ecc-b09f-6e7deac26c55",
      "metadata": {
        "id": "95ab8c4c-177a-4ecc-b09f-6e7deac26c55"
      },
      "outputs": [],
      "source": []
    },
    {
      "cell_type": "code",
      "execution_count": null,
      "id": "7d07bb5d-de9a-4720-b728-0e1f60a8bc69",
      "metadata": {
        "id": "7d07bb5d-de9a-4720-b728-0e1f60a8bc69",
        "outputId": "619ebc01-ab14-418f-8750-3f2549e19b8b"
      },
      "outputs": [
        {
          "name": "stdout",
          "output_type": "stream",
          "text": [
            "0\n",
            "2\n",
            "4\n",
            "6\n",
            "8\n",
            "10\n",
            "12\n",
            "14\n",
            "16\n",
            "18\n"
          ]
        }
      ],
      "source": [
        "# Answer to Q6.\n",
        "\n",
        "class EvenNumbers:\n",
        "    def __iter__(self):\n",
        "        self.X = 0\n",
        "        return self\n",
        "\n",
        "    def __next__(self):\n",
        "        val = self.X\n",
        "        self.X += 2\n",
        "        return val\n",
        "\n",
        "\n",
        "# Create object\n",
        "evens = EvenNumbers()\n",
        "count = 0\n",
        "\n",
        "for num in evens:\n",
        "    print(num)\n",
        "    count += 1\n",
        "    if count == 10:  # Stop after first 10 even numbers\n",
        "        break\n"
      ]
    },
    {
      "cell_type": "code",
      "execution_count": null,
      "id": "f3eb139d-5e3d-4c99-be9f-85291c20d6d6",
      "metadata": {
        "id": "f3eb139d-5e3d-4c99-be9f-85291c20d6d6",
        "outputId": "f7f69a05-1ec2-41e3-c7a7-f1dbbffa6a08"
      },
      "outputs": [
        {
          "name": "stdout",
          "output_type": "stream",
          "text": [
            "Line 1\n",
            "Line 2\n",
            "Line 3\n",
            "Line 4\n",
            "Line 5\n"
          ]
        }
      ],
      "source": [
        "# Answer to Q7.\n",
        "\n",
        "class FileLineReader:\n",
        "    def __init__(self, filename):\n",
        "        self.filename = filename\n",
        "\n",
        "    def __iter__(self):\n",
        "        # Open the file to get a file object\n",
        "        self.file = open(self.filename, 'r')\n",
        "        return self\n",
        "\n",
        "    def __next__(self):\n",
        "        line = self.file.readline()\n",
        "        if line:\n",
        "            return line.rstrip('\\n')\n",
        "        else:\n",
        "            self.file.close()\n",
        "            raise StopIteration\n",
        "\n",
        "\n",
        "# Example usage\n",
        "\n",
        "with open('sample.txt', 'w') as f:\n",
        "    f.write(\"Line 1\\nLine 2\\nLine 3\\nLine 4\\nLine 5\")\n",
        "\n",
        "reader = FileLineReader('sample.txt')\n",
        "for line in reader:\n",
        "    print(line)\n"
      ]
    },
    {
      "cell_type": "code",
      "execution_count": null,
      "id": "ed7c0126-0d90-42b0-8238-e5b110f1e2e0",
      "metadata": {
        "id": "ed7c0126-0d90-42b0-8238-e5b110f1e2e0"
      },
      "outputs": [],
      "source": []
    },
    {
      "cell_type": "code",
      "execution_count": null,
      "id": "75b5c15a-7574-4c0b-8f1b-c32aa77f57f6",
      "metadata": {
        "id": "75b5c15a-7574-4c0b-8f1b-c32aa77f57f6"
      },
      "outputs": [],
      "source": []
    },
    {
      "cell_type": "code",
      "execution_count": null,
      "id": "47e61725-754a-4362-b58b-c19813f3915b",
      "metadata": {
        "id": "47e61725-754a-4362-b58b-c19813f3915b"
      },
      "outputs": [],
      "source": []
    },
    {
      "cell_type": "code",
      "execution_count": null,
      "id": "5d4ebb72-d909-44bc-b04e-855d7bf7e89d",
      "metadata": {
        "id": "5d4ebb72-d909-44bc-b04e-855d7bf7e89d"
      },
      "outputs": [],
      "source": [
        "1. True or False. One object cannot have a method with the same name as another object's method.\n",
        "\n",
        "2. True or False and why. Methods with the same name, but for different objects, can have different content,\n",
        "but the return value has to be of same data type.\n",
        "\n",
        "3. - Create two classes `Car` and `Bicycle`.\n",
        "- Both should have a method `move()` that prints how they move\n",
        "(e.g., `\"Car drives\"` and `\"Bicycle pedals\"`).\n",
        "- Create a list containing objects of both classes and loop through it, calling `move()`\n",
        "for each.\n",
        "\n",
        "4. - Create a base class `Bird` with a method `speak()` that prints `\"Chirp\"`.\n",
        "- Create subclasses `Parrot` and `Crow` that override `speak()` to print `\"Squawk\"` and `\"Caw\"` respectively.\n",
        "- Create a function `make_bird_speak()` that accepts a `Bird` object and calls its `speak()` method.\n",
        "- Test with `Parrot` and `Crow`.\n",
        "\n",
        "5. - Use the built-in `len()` function with:\n",
        "  - a string\n",
        "  - a list\n",
        "  - a dictionary\n",
        "- Print the results and explain why `len()` works with different data types.\n",
        "\n",
        "6. - Create an abstract class `Shape` with an abstract method `area()`.\n",
        "- Create subclasses `Rectangle` and `Circle` that implement the `area()` method.\n",
        "- Create a list of different shapes and loop through them, printing their area without checking their type.\n",
        "\n"
      ]
    },
    {
      "cell_type": "markdown",
      "id": "0ba7d285-9381-4bde-b59e-7b22ad7f1009",
      "metadata": {
        "id": "0ba7d285-9381-4bde-b59e-7b22ad7f1009"
      },
      "source": [
        "## Solve Task For - Course 4 Below\n"
      ]
    },
    {
      "cell_type": "markdown",
      "id": "5f2198c8-9ecb-495d-bb0e-e73a22eebe52",
      "metadata": {
        "id": "5f2198c8-9ecb-495d-bb0e-e73a22eebe52"
      },
      "source": [
        "1. False\n",
        "\n",
        "2. False\n",
        "Why: Methods with the same name across different classes (or objects) can return values\n",
        "of completely different data types."
      ]
    },
    {
      "cell_type": "code",
      "execution_count": null,
      "id": "0447e78f-6e55-46e6-aad9-fac641087d95",
      "metadata": {
        "id": "0447e78f-6e55-46e6-aad9-fac641087d95"
      },
      "outputs": [],
      "source": []
    },
    {
      "cell_type": "code",
      "execution_count": null,
      "id": "7854952b-bb2a-473c-a8d9-3d1bf5c01982",
      "metadata": {
        "id": "7854952b-bb2a-473c-a8d9-3d1bf5c01982"
      },
      "outputs": [],
      "source": []
    },
    {
      "cell_type": "code",
      "execution_count": null,
      "id": "62bbbdc9-0c7f-490c-8ff0-e3a1cbb0d6a1",
      "metadata": {
        "id": "62bbbdc9-0c7f-490c-8ff0-e3a1cbb0d6a1",
        "outputId": "70576c1d-812f-4298-8e8b-f60a21ad6791"
      },
      "outputs": [
        {
          "name": "stdout",
          "output_type": "stream",
          "text": [
            "Car drives\n",
            "Bicycle pedals\n"
          ]
        }
      ],
      "source": [
        "# Answer to Q3.\n",
        "\n",
        "class Car:\n",
        "    def move(self):\n",
        "        print(\"Car drives\")\n",
        "\n",
        "\n",
        "class Bicycle:\n",
        "    def move(self):\n",
        "        print(\"Bicycle pedals\")\n",
        "\n",
        "\n",
        "# Create objects\n",
        "car = Car()\n",
        "bike = Bicycle()\n",
        "\n",
        "# Store in a list\n",
        "vehicles = [car, bike]\n",
        "\n",
        "# Loop and call move()\n",
        "for v in vehicles:\n",
        "    v.move()\n"
      ]
    },
    {
      "cell_type": "code",
      "execution_count": null,
      "id": "29a0790a-f257-4e22-ba66-fd6cf027c848",
      "metadata": {
        "id": "29a0790a-f257-4e22-ba66-fd6cf027c848",
        "outputId": "51244e9e-005a-407c-ec47-5a5415c6afbf"
      },
      "outputs": [
        {
          "name": "stdout",
          "output_type": "stream",
          "text": [
            "Squawk\n",
            "Caw\n"
          ]
        }
      ],
      "source": [
        "# Answer to Q4.\n",
        "\n",
        "# Base class\n",
        "class Bird:\n",
        "    def speak(self):\n",
        "        print(\"Chirp\")\n",
        "\n",
        "\n",
        "# Subclass Parrot\n",
        "class Parrot(Bird):\n",
        "    def speak(self):\n",
        "        print(\"Squawk\")\n",
        "\n",
        "\n",
        "# Subclass Crow\n",
        "class Crow(Bird):\n",
        "    def speak(self):\n",
        "        print(\"Caw\")\n",
        "\n",
        "\n",
        "# Function that accepts any Bird object\n",
        "def make_bird_speak(bird: Bird):\n",
        "    bird.speak()\n",
        "\n",
        "\n",
        "# Test\n",
        "parrot = Parrot()\n",
        "crow = Crow()\n",
        "\n",
        "make_bird_speak(parrot)\n",
        "make_bird_speak(crow)\n"
      ]
    },
    {
      "cell_type": "code",
      "execution_count": null,
      "id": "a7506a05-f06a-4846-b32c-457605d9b9f6",
      "metadata": {
        "id": "a7506a05-f06a-4846-b32c-457605d9b9f6",
        "outputId": "99b1233c-3e24-44c3-8e4a-4690de6bdea0"
      },
      "outputs": [
        {
          "name": "stdout",
          "output_type": "stream",
          "text": [
            "Length of string: 5\n",
            "Length of list: 4\n",
            "Length of dictionary: 3\n"
          ]
        }
      ],
      "source": [
        "# Answer to Q5.\n",
        "\n",
        "# Using len() with different data types\n",
        "\n",
        "# String\n",
        "text = \"Hello\"\n",
        "print(\"Length of string:\", len(text))\n",
        "\n",
        "# List\n",
        "numbers = [10, 20, 30, 40]\n",
        "print(\"Length of list:\", len(numbers))\n",
        "\n",
        "# Dictionary\n",
        "student = {\"name\": \"Alice\", \"age\": 22, \"grade\": \"A\"}\n",
        "print(\"Length of dictionary:\", len(student))\n",
        "\n",
        "\n",
        "# Why does len() work on different data types:\n",
        "# len() is a built-in function that calls the special method __len__() of an object.\n"
      ]
    },
    {
      "cell_type": "code",
      "execution_count": null,
      "id": "e8e86543-4a80-4ad1-837f-d561e3134533",
      "metadata": {
        "id": "e8e86543-4a80-4ad1-837f-d561e3134533"
      },
      "outputs": [],
      "source": [
        "# Answer to Q6.\n",
        "\n",
        "# Abstract base class\n",
        "class Shape(ABC):\n",
        "    @abstractmethod\n",
        "    def area(self):\n",
        "        pass\n",
        "\n",
        "\n",
        "# Subclass Rectangle\n",
        "class Rectangle(Shape):\n",
        "    def __init__(self, width, height):\n",
        "        self.width = width\n",
        "        self.height = height\n",
        "\n",
        "    def area(self):\n",
        "        return self.width * self.height\n",
        "\n",
        "\n",
        "# Subclass Circle\n",
        "class Circle(Shape):\n",
        "    def __init__(self, radius):\n",
        "        self.radius = radius\n",
        "\n",
        "    def area(self):\n",
        "        return math.pi * (self.radius ** 2)\n",
        "\n",
        "\n",
        "# Create a list of shapes\n",
        "shapes = [\n",
        "    Rectangle(5, 10),\n",
        "    Circle(7),\n",
        "    Rectangle(3, 4),\n",
        "    Circle(2)\n",
        "]\n",
        "\n",
        "# Loop and print areas (polymorphism in action)\n",
        "for shape in shapes:\n",
        "    print(f\"Area: {shape.area():.2f}\")\n",
        "\n"
      ]
    },
    {
      "cell_type": "markdown",
      "id": "a4041572-eecf-4b5d-a0f2-ec01f1fc1ad0",
      "metadata": {
        "id": "a4041572-eecf-4b5d-a0f2-ec01f1fc1ad0"
      },
      "source": [
        "## Task\n",
        "\n",
        "1. Consider the following code:\n",
        "```python\n",
        "x = 300\n",
        "def myfunc():\n",
        "  x = 200\n",
        "myfunc()\n",
        "print(x)\n",
        "\n",
        "What will be the printed result?\n",
        "\n",
        "2. Consider the following code, what will `x` be:\n",
        "```python\n",
        "x = 300\n",
        "def myfunc():\n",
        "  global x\n",
        "  x = 200\n",
        "myfunc()\n",
        "print(x)\n",
        "\n",
        "3. - Create a global variable `count = 10`.  \n",
        "- Inside a function `increment()`, create a local variable `count` and print its value.  \n",
        "- Call the function and then print the global `count`.  \n",
        "- Observe the difference.\n",
        "\n",
        "4. - Create a global variable `total = 0`.  \n",
        "- Inside a function `add_to_total(n)`, use the `global` keyword to modify `total` by adding `n`.  \n",
        "- Call the function multiple times and print the updated value of `total`.\n",
        "\n",
        "5. - Create a function `outer()` with a variable `message = \"Hi\"`.  \n",
        "- Inside `outer()`, create a nested function `inner()` that modifies `message` using the `nonlocal` keyword.  \n",
        "- Call `inner()` from inside `outer()` and print the updated `message`.\n",
        "\n",
        "6. - Write a function `show_len_behavior()` that:  \n",
        "  - Calls the built-in `len()` function on a list.  \n",
        "  - Then creates a local variable named `len` with a value of `100`.  \n",
        "  - Tries to call `len()` again and observes the error.  \n",
        "- Explain what happened and how it relates to built-in scope.\n",
        "    \n",
        "                             "
      ]
    },
    {
      "cell_type": "code",
      "execution_count": null,
      "id": "c5ac02dd-7244-45c2-82fc-b4ab887c7507",
      "metadata": {
        "id": "c5ac02dd-7244-45c2-82fc-b4ab887c7507"
      },
      "outputs": [],
      "source": []
    },
    {
      "cell_type": "code",
      "execution_count": null,
      "id": "cb70af56-4154-4bc3-ae8c-703d51a64528",
      "metadata": {
        "id": "cb70af56-4154-4bc3-ae8c-703d51a64528"
      },
      "outputs": [],
      "source": []
    },
    {
      "cell_type": "code",
      "execution_count": null,
      "id": "eb9267e1-f312-4971-a656-361b73e08ea0",
      "metadata": {
        "id": "eb9267e1-f312-4971-a656-361b73e08ea0"
      },
      "outputs": [],
      "source": []
    },
    {
      "cell_type": "markdown",
      "id": "ba406563-3dfa-4a59-b736-ab6ad41412bb",
      "metadata": {
        "id": "ba406563-3dfa-4a59-b736-ab6ad41412bb"
      },
      "source": [
        "## Solve Task For - Course 5 Below\n"
      ]
    },
    {
      "cell_type": "code",
      "execution_count": null,
      "id": "1a7b08ad-0253-422c-a344-5f4b7d28967e",
      "metadata": {
        "id": "1a7b08ad-0253-422c-a344-5f4b7d28967e"
      },
      "outputs": [],
      "source": []
    },
    {
      "cell_type": "code",
      "execution_count": null,
      "id": "455a3443-6145-45d0-8663-21dfa93ad58d",
      "metadata": {
        "id": "455a3443-6145-45d0-8663-21dfa93ad58d"
      },
      "outputs": [],
      "source": [
        "Q1.\n",
        "\n",
        "x = 300  # global variable\n",
        "\n",
        "def myfunc():\n",
        "    x = 200\n",
        "\n",
        "myfunc()\n",
        "print(x)\n"
      ]
    },
    {
      "cell_type": "code",
      "execution_count": null,
      "id": "0be8ca88-be8e-4054-96d8-13561680dd84",
      "metadata": {
        "id": "0be8ca88-be8e-4054-96d8-13561680dd84"
      },
      "outputs": [],
      "source": [
        "Q2.\n",
        "\n",
        "x = 300  # global variable\n",
        "\n",
        "def myfunc():\n",
        "    global x\n",
        "    x = 200\n",
        "\n",
        "myfunc()\n",
        "print(x)\n"
      ]
    },
    {
      "cell_type": "code",
      "execution_count": null,
      "id": "c1e7ec08-4f4d-48d3-918c-ea060cd5479c",
      "metadata": {
        "id": "c1e7ec08-4f4d-48d3-918c-ea060cd5479c"
      },
      "outputs": [],
      "source": [
        "Q3. The `nonlocal` keyword"
      ]
    },
    {
      "cell_type": "code",
      "execution_count": null,
      "id": "3e9aef1b-bfe8-4682-ad5b-e87f28a71dbb",
      "metadata": {
        "id": "3e9aef1b-bfe8-4682-ad5b-e87f28a71dbb"
      },
      "outputs": [],
      "source": [
        "Q4.\n",
        "# Global variable\n",
        "count = 10\n",
        "\n",
        "def increment():\n",
        "    # Local variable with the same name\n",
        "    count = 5\n",
        "    print(\"Inside function, local count:\", count)\n",
        "\n",
        "# Call the function\n",
        "increment()\n",
        "\n",
        "# Print global variable\n",
        "print(\"Outside function, global count:\", count)\n"
      ]
    },
    {
      "cell_type": "code",
      "execution_count": null,
      "id": "cc1e0f45-f3e1-49b3-8a73-3fba4385758c",
      "metadata": {
        "id": "cc1e0f45-f3e1-49b3-8a73-3fba4385758c"
      },
      "outputs": [],
      "source": [
        "Q5.\n",
        "# Global variable\n",
        "total = 0\n",
        "\n",
        "def add_to_total(n):\n",
        "    global total\n",
        "    total += n\n",
        "    print(f\"Added {n}, total is now: {total}\")\n",
        "\n",
        "# Call the function multiple times\n",
        "add_to_total(5)\n",
        "add_to_total(10)\n",
        "add_to_total(3)\n",
        "\n",
        "# Print the final value of total\n",
        "print(\"Final total:\", total)\n"
      ]
    },
    {
      "cell_type": "code",
      "execution_count": null,
      "id": "3a77279f-6e39-49ce-8495-edee8eda909a",
      "metadata": {
        "id": "3a77279f-6e39-49ce-8495-edee8eda909a"
      },
      "outputs": [],
      "source": [
        "Q6.\n",
        "def outer():\n",
        "    message = \"Hi\"\n",
        "\n",
        "    def inner():\n",
        "        nonlocal message  # Refer to the enclosing function's variable\n",
        "        message += \", there!\"\n",
        "        print(\"Inside inner():\", message)\n",
        "\n",
        "    inner()\n",
        "    print(\"Inside outer():\", message)\n",
        "\n",
        "# Call outer()\n",
        "outer()\n"
      ]
    },
    {
      "cell_type": "code",
      "execution_count": null,
      "id": "c728f1e7-4b24-4a0f-9a1a-a414343d2a1d",
      "metadata": {
        "id": "c728f1e7-4b24-4a0f-9a1a-a414343d2a1d",
        "outputId": "a296fb3c-71cc-45d9-d67a-5f41b10cc26c"
      },
      "outputs": [
        {
          "name": "stdout",
          "output_type": "stream",
          "text": [
            "UnboundLocalError occurred: cannot access local variable 'len' where it is not associated with a value\n",
            "Local variable len is now: 100\n"
          ]
        }
      ],
      "source": [
        "# Q7\n",
        "\n",
        "def show_len_error():\n",
        "    my_list = [1, 2, 3, 4, 5]\n",
        "\n",
        "    # Assigning to 'len' later makes Python treat it as local for the whole function\n",
        "    try:\n",
        "        print(len(my_list))\n",
        "    except UnboundLocalError as e:\n",
        "        print(\"UnboundLocalError occurred:\", e)\n",
        "\n",
        "    # Now we assign to 'len', which is treated as local\n",
        "    len = 100\n",
        "    print(\"Local variable len is now:\", len)\n",
        "\n",
        "show_len_error()\n",
        "\n",
        "\n",
        "\n",
        "#Explanation\n",
        "# At first, len(my_list) works because it calls the built-in len() function.\n",
        "# After len = 100, the name len in the local scope now refers to an integer, not the built-in function.\n",
        "# When you try len(my_list), Python tries to call the integer 100, resulting in a TypeError: 'int' object is not callable.\n",
        "# Key idea: Python resolves names using the LEGB rule (Local → Enclosing → Global → Built-in).\n",
        "# The local variable len shadows the built-in function, so the built-in is no longer accessible in that scope."
      ]
    },
    {
      "cell_type": "code",
      "execution_count": null,
      "id": "7e428dda-9c8c-4b98-a0ff-40668cf454a4",
      "metadata": {
        "id": "7e428dda-9c8c-4b98-a0ff-40668cf454a4"
      },
      "outputs": [],
      "source": []
    },
    {
      "cell_type": "code",
      "execution_count": null,
      "id": "cbcedb71-310b-481d-b515-0b9963f8f8c3",
      "metadata": {
        "id": "cbcedb71-310b-481d-b515-0b9963f8f8c3"
      },
      "outputs": [],
      "source": []
    },
    {
      "cell_type": "markdown",
      "id": "4fe2d77f-deb8-463d-b3da-a8e8ec10a60f",
      "metadata": {
        "id": "4fe2d77f-deb8-463d-b3da-a8e8ec10a60f"
      },
      "source": [
        "## Assignment & Assessment\n"
      ]
    },
    {
      "cell_type": "markdown",
      "id": "460fc961-1da0-4fb0-b779-721f3b7a1a96",
      "metadata": {
        "id": "460fc961-1da0-4fb0-b779-721f3b7a1a96"
      },
      "source": [
        "Create a `Car` class with attributes `brand` and `model`. Instantiate two objects and print their details."
      ]
    },
    {
      "cell_type": "code",
      "execution_count": null,
      "id": "4af38b81-31f7-4016-ba5e-c94091738a4c",
      "metadata": {
        "id": "4af38b81-31f7-4016-ba5e-c94091738a4c"
      },
      "outputs": [],
      "source": [
        "# Define the Car class\n",
        "class Car:\n",
        "    def __init__(self, brand, model):\n",
        "        self.brand = brand\n",
        "        self.model = model\n",
        "\n",
        "    def display_info(self):\n",
        "        print(f\"Brand: {self.brand}, Model: {self.model}\")\n",
        "\n",
        "\n",
        "# Create two Car objects\n",
        "car1 = Car(\"Toyota\", \"Corolla\")\n",
        "car2 = Car(\"Honda\", \"Civic\")\n",
        "\n",
        "# Print their details\n",
        "car1.display_info()\n",
        "car2.display_info()\n"
      ]
    },
    {
      "cell_type": "markdown",
      "id": "c5be1979-7fb3-4e2c-98f2-2fe6cdeaa41d",
      "metadata": {
        "id": "c5be1979-7fb3-4e2c-98f2-2fe6cdeaa41d"
      },
      "source": [
        "Create a `Counter` class with a class variable to track total instances created. Print the count after making several objects."
      ]
    },
    {
      "cell_type": "code",
      "execution_count": null,
      "id": "fb7955d0-2d44-4222-bf58-cd790df54fb3",
      "metadata": {
        "id": "fb7955d0-2d44-4222-bf58-cd790df54fb3"
      },
      "outputs": [],
      "source": [
        "# Define the Counter class\n",
        "class Counter:\n",
        "    total_instances = 0  # Class variable to track total objects\n",
        "\n",
        "    def __init__(self):\n",
        "        Counter.total_instances += 1  # Increment when a new object is created\n",
        "\n",
        "\n",
        "# Create several objects\n",
        "c1 = Counter()\n",
        "c2 = Counter()\n",
        "c3 = Counter()\n",
        "\n",
        "# Print the total instances\n",
        "print(\"Total Counter instances created:\", Counter.total_instances)\n"
      ]
    },
    {
      "cell_type": "markdown",
      "id": "e47764fb-e6c3-4749-9f44-3ce2e5d35380",
      "metadata": {
        "id": "e47764fb-e6c3-4749-9f44-3ce2e5d35380"
      },
      "source": [
        "Create a parent class `Animal` with a method `speak()`. Create a child class `Dog` that overrides `speak()` to print `\"Woof!\"`"
      ]
    },
    {
      "cell_type": "code",
      "execution_count": null,
      "id": "3edebe43-0fed-4bcb-b3e8-ad15d5be6d6f",
      "metadata": {
        "id": "3edebe43-0fed-4bcb-b3e8-ad15d5be6d6f"
      },
      "outputs": [],
      "source": [
        "# Parent class\n",
        "class Animal:\n",
        "    def speak(self):\n",
        "        print(\"Some generic animal sound\")\n",
        "\n",
        "\n",
        "# Child class\n",
        "class Dog(Animal):\n",
        "    def speak(self):\n",
        "        print(\"Woof!\")\n",
        "\n",
        "\n",
        "# Test\n",
        "animal = Animal()\n",
        "dog = Dog()\n",
        "\n",
        "animal.speak()  # Output: Some generic animal sound\n",
        "dog.speak()     # Output: Woof!\n"
      ]
    },
    {
      "cell_type": "markdown",
      "id": "088d4b69-a14c-4e1f-83fd-f8efcf7cae44",
      "metadata": {
        "id": "088d4b69-a14c-4e1f-83fd-f8efcf7cae44"
      },
      "source": [
        "Create three classes: `LivingBeing`, `Animal`, and `Bird` where:  \n",
        "  \n",
        "- `LivingBeing` has `is_alive = True`.  \n",
        "- `Animal` inherits from `LivingBeing`.  \n",
        "- `Bird` inherits from `Animal` and has a `fly()` method.  \n",
        "  \n",
        "Instantiate `Bird` and demonstrate inherited attributes/methods.  "
      ]
    },
    {
      "cell_type": "code",
      "execution_count": null,
      "id": "42e538c8-ba7c-4270-a8d3-c78a3706b065",
      "metadata": {
        "id": "42e538c8-ba7c-4270-a8d3-c78a3706b065",
        "outputId": "d4dad017-cb9a-4df7-e6d1-645c741ab81c"
      },
      "outputs": [
        {
          "name": "stdout",
          "output_type": "stream",
          "text": [
            "Is alive: True\n",
            "I can fly!\n"
          ]
        }
      ],
      "source": [
        "# Base class\n",
        "class LivingBeing:\n",
        "    is_alive = True  # Class attribute shared by all instances\n",
        "\n",
        "\n",
        "# Animal inherits from LivingBeing\n",
        "class Animal(LivingBeing):\n",
        "    pass  # No additional attributes or methods for now\n",
        "\n",
        "\n",
        "# Bird inherits from Animal\n",
        "class Bird(Animal):\n",
        "    def fly(self):\n",
        "        print(\"I can fly!\")\n",
        "\n",
        "\n",
        "# Instantiate a Bird\n",
        "parrot = Bird()\n",
        "\n",
        "# Demonstrate inherited attribute\n",
        "print(\"Is alive:\", parrot.is_alive)\n",
        "\n",
        "# Call method defined in Bird\n",
        "parrot.fly()\n"
      ]
    },
    {
      "cell_type": "markdown",
      "id": "00891009-7382-4889-933a-acc23e6297f5",
      "metadata": {
        "id": "00891009-7382-4889-933a-acc23e6297f5"
      },
      "source": [
        "Create an iterator class `EvenNumbers` that takes a limit and iterates over even numbers only. Use it in a `for` loop."
      ]
    },
    {
      "cell_type": "code",
      "execution_count": null,
      "id": "1fac8d66-8c68-463f-9bb6-6187471b8a72",
      "metadata": {
        "id": "1fac8d66-8c68-463f-9bb6-6187471b8a72"
      },
      "outputs": [],
      "source": [
        "# Iterator class for even numbers\n",
        "class EvenNumbers:\n",
        "    def __init__(self, limit):\n",
        "        self.limit = limit\n",
        "\n",
        "    def __iter__(self):\n",
        "        self.current = 0\n",
        "        return self\n",
        "\n",
        "    def __next__(self):\n",
        "        if self.current <= self.limit:\n",
        "            val = self.current\n",
        "            self.current += 2\n",
        "            return val\n",
        "        else:\n",
        "            raise StopIteration\n",
        "\n",
        "\n",
        "# Example usage\n",
        "evens = EvenNumbers(10)  # Iterate up to 10\n",
        "\n",
        "for num in evens:\n",
        "    print(num)\n"
      ]
    },
    {
      "cell_type": "markdown",
      "id": "2d93f64f-f327-4d85-8be1-c0b4a167be20",
      "metadata": {
        "id": "2d93f64f-f327-4d85-8be1-c0b4a167be20"
      },
      "source": [
        "Create `Cat` and `Dog` classes, each with a `sound()` method returning `\"Meow\"` or `\"Woof\"`.  \n",
        "Write a function `animal_sound(animal)` that calls `.sound()` without knowing the class type.  "
      ]
    },
    {
      "cell_type": "code",
      "execution_count": null,
      "id": "440c086a-b805-449f-b1c9-ac2d5f48c437",
      "metadata": {
        "id": "440c086a-b805-449f-b1c9-ac2d5f48c437",
        "outputId": "1258bf9c-e2c0-4ca4-d0ce-7cac890d1b36"
      },
      "outputs": [
        {
          "name": "stdout",
          "output_type": "stream",
          "text": [
            "Meow\n",
            "Woof\n"
          ]
        }
      ],
      "source": [
        "# Cat class\n",
        "class Cat:\n",
        "    def sound(self):\n",
        "        return \"Meow\"\n",
        "\n",
        "\n",
        "# Dog class\n",
        "class Dog:\n",
        "    def sound(self):\n",
        "        return \"Woof\"\n",
        "\n",
        "\n",
        "# Function that works with any animal\n",
        "def animal_sound(animal):\n",
        "    print(animal.sound())\n",
        "\n",
        "\n",
        "# Test\n",
        "cat = Cat()\n",
        "dog = Dog()\n",
        "\n",
        "animal_sound(cat)  # Meow\n",
        "animal_sound(dog)  # Woof\n"
      ]
    },
    {
      "cell_type": "markdown",
      "id": "7cdd67dc-3336-426b-a4d9-4655688532a7",
      "metadata": {
        "id": "7cdd67dc-3336-426b-a4d9-4655688532a7"
      },
      "source": [
        "Write a program demonstrating:\n",
        "\n",
        "- a global variable modified inside a function\n",
        "\n",
        "- a nonlocal variable modified inside a nested function.\n"
      ]
    },
    {
      "cell_type": "code",
      "execution_count": null,
      "id": "37e389ac-4ee5-4d1c-9112-1a824a67eaba",
      "metadata": {
        "id": "37e389ac-4ee5-4d1c-9112-1a824a67eaba"
      },
      "outputs": [],
      "source": [
        "# Global variable\n",
        "total = 10\n",
        "\n",
        "def modify_global(n):\n",
        "    global total  # Use the global variable\n",
        "    total += n\n",
        "    print(\"Inside modify_global, total =\", total)\n",
        "\n",
        "\n",
        "def outer_function():\n",
        "    message = \"Hi\"\n",
        "\n",
        "    def inner_function():\n",
        "        nonlocal message  # Modify the enclosing function's variable\n",
        "        message += \", there!\"\n",
        "        print(\"Inside inner_function:\", message)\n",
        "\n",
        "    inner_function()\n",
        "    print(\"Inside outer_function:\", message)\n",
        "\n",
        "\n",
        "# Test global modification\n",
        "modify_global(5)  # total becomes 15\n",
        "print(\"Global total after function call:\", total)\n",
        "\n",
        "print(\"---\")\n",
        "\n",
        "# Test nonlocal modification\n",
        "outer_function()\n"
      ]
    },
    {
      "cell_type": "markdown",
      "id": "2291f277-8833-41c5-80c5-01dae02f8889",
      "metadata": {
        "id": "2291f277-8833-41c5-80c5-01dae02f8889"
      },
      "source": [
        "Create two classes: `Flyer` (method `move()` returns `\"Flying\"`) and `Swimmer` (method `move()` returns `\"Swimming\"`).  \n",
        "Create a class `Duck` inheriting from both.  \n",
        "- Use `super()` to decide which `move()` executes.  \n",
        "- Explain the **Method Resolution Order (MRO)**.  "
      ]
    },
    {
      "cell_type": "code",
      "execution_count": null,
      "id": "199863ab-926b-4c51-9307-f0e072f13987",
      "metadata": {
        "id": "199863ab-926b-4c51-9307-f0e072f13987"
      },
      "outputs": [],
      "source": [
        "# Parent classes\n",
        "class Flyer:\n",
        "    def move(self):\n",
        "        return \"Flying\"\n",
        "\n",
        "class Swimmer:\n",
        "    def move(self):\n",
        "        return \"Swimming\"\n",
        "\n",
        "# Child class inheriting from both\n",
        "class Duck(Flyer, Swimmer):\n",
        "    def move(self):\n",
        "        # Use super() to call the first parent according to MRO\n",
        "        return super().move() + \" and Quacking!\"\n",
        "\n",
        "# Instantiate Duck\n",
        "donald = Duck()\n",
        "\n",
        "print(donald.move())  # Which parent’s move() is called?\n",
        "print(\"Duck MRO:\", [cls.__name__ for cls in Duck.__mro__])\n"
      ]
    },
    {
      "cell_type": "markdown",
      "id": "273e9435-fc84-43c1-8ce0-a7f188548c3f",
      "metadata": {
        "id": "273e9435-fc84-43c1-8ce0-a7f188548c3f"
      },
      "source": [
        "Create a class `Fibonacci` that generates Fibonacci numbers up to a given `n` using an iterator protocol."
      ]
    },
    {
      "cell_type": "code",
      "execution_count": null,
      "id": "ccef7ddc-a777-4a56-af03-d36a238baf71",
      "metadata": {
        "id": "ccef7ddc-a777-4a56-af03-d36a238baf71"
      },
      "outputs": [],
      "source": [
        "class Fibonacci:\n",
        "    def __init__(self, n):\n",
        "        self.n = n  # Number of Fibonacci numbers to generate\n",
        "\n",
        "    def __iter__(self):\n",
        "        self.count = 0\n",
        "        self.a, self.b = 0, 1  # First two Fibonacci numbers\n",
        "        return self\n",
        "\n",
        "    def __next__(self):\n",
        "        if self.count < self.n:\n",
        "            val = self.a\n",
        "            self.a, self.b = self.b, self.a + self.b\n",
        "            self.count += 1\n",
        "            return val\n",
        "        else:\n",
        "            raise StopIteration\n",
        "\n",
        "\n",
        "# Example usage\n",
        "fib_sequence = Fibonacci(10)\n",
        "\n",
        "for num in fib_sequence:\n",
        "    print(num)\n"
      ]
    },
    {
      "cell_type": "markdown",
      "id": "90c7acea-fece-4cbe-a0b5-73597da902db",
      "metadata": {
        "id": "90c7acea-fece-4cbe-a0b5-73597da902db"
      },
      "source": [
        "Create classes `Rectangle`, `Circle`, and `Triangle`, each with an `area()` method.  \n",
        "- Store instances of these classes in a list.  \n",
        "- Write code that calculates the total area without checking object types.  "
      ]
    },
    {
      "cell_type": "code",
      "execution_count": null,
      "id": "de8a9e25-02ad-4b8b-90ba-79f97fe4b3de",
      "metadata": {
        "id": "de8a9e25-02ad-4b8b-90ba-79f97fe4b3de"
      },
      "outputs": [],
      "source": [
        "import math\n",
        "\n",
        "# Base classes with area() method\n",
        "class Rectangle:\n",
        "    def __init__(self, width, height):\n",
        "        self.width = width\n",
        "        self.height = height\n",
        "\n",
        "    def area(self):\n",
        "        return self.width * self.height\n",
        "\n",
        "\n",
        "class Circle:\n",
        "    def __init__(self, radius):\n",
        "        self.radius = radius\n",
        "\n",
        "    def area(self):\n",
        "        return math.pi * self.radius ** 2\n",
        "\n",
        "\n",
        "class Triangle:\n",
        "    def __init__(self, base, height):\n",
        "        self.base = base\n",
        "        self.height = height\n",
        "\n",
        "    def area(self):\n",
        "        return 0.5 * self.base * self.height\n",
        "\n",
        "\n",
        "# Create instances\n",
        "shapes = [\n",
        "    Rectangle(5, 10),\n",
        "    Circle(7),\n",
        "    Triangle(3, 4),\n",
        "    Rectangle(2, 3)\n",
        "]\n",
        "\n",
        "# Calculate total area using polymorphism (no type checks)\n",
        "total_area = sum(shape.area() for shape in shapes)\n",
        "\n",
        "print(f\"Total area of all shapes: {total_area:.2f}\")\n"
      ]
    },
    {
      "cell_type": "markdown",
      "id": "e5fdab59-b32a-4b27-8d0b-68e06d696530",
      "metadata": {
        "id": "e5fdab59-b32a-4b27-8d0b-68e06d696530"
      },
      "source": [
        "# Library Management System  \n",
        "  \n",
        "## Scenario  \n",
        "You are building a small library system to manage books, members, and borrowing operations. The system should support multiple types of books, track borrowed books, and allow iteration over members and books. The system should also demonstrate proper use of scopes and encapsulation.  \n",
        "  \n",
        "## Requirements and Concepts to Cover  \n",
        "  \n",
        "### 1. OOP & Inheritance  \n",
        "- Create a base class `Book` with attributes: `title`, `author`, `year`.  \n",
        "- Create subclasses:  \n",
        "  - `EBook` with `file_size` and `format`.  \n",
        "  - `PrintedBook` with `weight` and `dimensions`.  \n",
        "- Create a base class `Member` with `name` and `member_id`.  \n",
        "- Create subclasses:  \n",
        "  - `StudentMember` with `grade_level`.  \n",
        "  - `TeacherMember` with `department`.  \n",
        "  \n",
        "### 2. Polymorphism  \n",
        "- Define a method `get_description()` in `Book` and override it in both `EBook` and `PrintedBook`.  \n",
        "- Define a method `borrow_book()` in `Member` that behaves differently for `StudentMember` and `TeacherMember` (e.g., different borrowing limits).  \n",
        "  \n",
        "### 3. Iterators  \n",
        "- Implement an iterator for the `Library` class to iterate over all books.  \n",
        "- Implement an iterator for the `Member` class to iterate over borrowed books.  \n",
        "  \n",
        "### 4. Scope  \n",
        "- Use private and protected attributes to demonstrate scope:  \n",
        "  - `_borrowed_books` in `Member` (protected).  \n",
        "  - `__library_name` in `Library` (private).  \n",
        "- Provide getter and setter methods where appropriate to access private/protected attributes.  \n",
        "  \n",
        "### 5. Extra Features  \n",
        "- Track which books are available and which are borrowed.  \n",
        "- Allow searching books by title or author.  \n",
        "- Count the total number of books borrowed by all members (use a class-level variable).  "
      ]
    },
    {
      "cell_type": "code",
      "execution_count": null,
      "id": "921c8c2c-ffa0-4f4a-8dbe-b25998af7eb6",
      "metadata": {
        "id": "921c8c2c-ffa0-4f4a-8dbe-b25998af7eb6"
      },
      "outputs": [],
      "source": []
    },
    {
      "cell_type": "code",
      "execution_count": null,
      "id": "08afae39-9322-40a4-9806-920e6d0ef4bb",
      "metadata": {
        "id": "08afae39-9322-40a4-9806-920e6d0ef4bb",
        "outputId": "0930a50f-41a3-42eb-a1e6-897fd5f3cd14"
      },
      "outputs": [
        {
          "name": "stdout",
          "output_type": "stream",
          "text": [
            "Alice borrowed 'Python Programming'.\n",
            "Alice borrowed 'Data Science Handbook'.\n",
            "Professor Bob borrowed 'AI Basics'.\n",
            "'Python Programming' is already borrowed.\n",
            "\n",
            "--- Library Books ---\n",
            "Python Programming (EBook, 5MB, PDF) by John Doe - Borrowed\n",
            "Data Science Handbook (Printed, 1.2kg, 21x29cm) by Jane Smith - Borrowed\n",
            "AI Basics (Printed, 0.8kg, 20x25cm) by Alan Turing - Borrowed\n",
            "\n",
            "--- Members' Borrowed Books ---\n",
            "Alice has borrowed:\n",
            "  - Python Programming (EBook, 5MB, PDF) by John Doe\n",
            "  - Data Science Handbook (Printed, 1.2kg, 21x29cm) by Jane Smith\n",
            "Professor Bob has borrowed:\n",
            "  - AI Basics (Printed, 0.8kg, 20x25cm) by Alan Turing\n",
            "\n",
            "--- Search Books by 'Python' ---\n",
            "Python Programming (EBook, 5MB, PDF) by John Doe\n",
            "\n",
            "Total books borrowed by all members: 3\n"
          ]
        }
      ],
      "source": [
        "# Library Management System\n",
        "\n",
        "from typing import List\n",
        "\n",
        "# BOOK CLASSES\n",
        "\n",
        "class Book:\n",
        "    total_borrowed = 0  # Class-level variable to track total borrowed books\n",
        "\n",
        "    def __init__(self, title: str, author: str, year: int):\n",
        "        self.title = title\n",
        "        self.author = author\n",
        "        self.year = year\n",
        "        self._is_borrowed = False  # Protected attribute\n",
        "\n",
        "    def get_description(self):\n",
        "        return f\"{self.title} by {self.author} ({self.year})\"\n",
        "\n",
        "    def borrow(self):\n",
        "        if not self._is_borrowed:\n",
        "            self._is_borrowed = True\n",
        "            Book.total_borrowed += 1\n",
        "            return True\n",
        "        return False\n",
        "\n",
        "    def return_book(self):\n",
        "        if self._is_borrowed:\n",
        "            self._is_borrowed = False\n",
        "            return True\n",
        "        return False\n",
        "\n",
        "    def is_borrowed(self):\n",
        "        return self._is_borrowed\n",
        "\n",
        "\n",
        "class EBook(Book):\n",
        "    def __init__(self, title, author, year, file_size, file_format):\n",
        "        super().__init__(title, author, year)\n",
        "        self.file_size = file_size\n",
        "        self.file_format = file_format\n",
        "\n",
        "    def get_description(self):\n",
        "        return f\"{self.title} (EBook, {self.file_size}MB, {self.file_format}) by {self.author}\"\n",
        "\n",
        "\n",
        "class PrintedBook(Book):\n",
        "    def __init__(self, title, author, year, weight, dimensions):\n",
        "        super().__init__(title, author, year)\n",
        "        self.weight = weight\n",
        "        self.dimensions = dimensions\n",
        "\n",
        "    def get_description(self):\n",
        "        return f\"{self.title} (Printed, {self.weight}kg, {self.dimensions}) by {self.author}\"\n",
        "\n",
        "\n",
        "# MEMBER CLASSES\n",
        "\n",
        "class Member:\n",
        "    def __init__(self, name: str, member_id: int):\n",
        "        self.name = name\n",
        "        self.member_id = member_id\n",
        "        self._borrowed_books: List[Book] = []  # Protected\n",
        "\n",
        "    def borrow_book(self, book: Book):\n",
        "        raise NotImplementedError(\"This method should be implemented in subclasses\")\n",
        "\n",
        "    def return_book(self, book: Book):\n",
        "        if book in self._borrowed_books:\n",
        "            book.return_book()\n",
        "            self._borrowed_books.remove(book)\n",
        "\n",
        "    def get_borrowed_books(self):\n",
        "        return self._borrowed_books\n",
        "\n",
        "    # Iterator over borrowed books\n",
        "    def __iter__(self):\n",
        "        self._index = 0\n",
        "        return self\n",
        "\n",
        "    def __next__(self):\n",
        "        if self._index < len(self._borrowed_books):\n",
        "            book = self._borrowed_books[self._index]\n",
        "            self._index += 1\n",
        "            return book\n",
        "        else:\n",
        "            raise StopIteration\n",
        "\n",
        "\n",
        "class StudentMember(Member):\n",
        "    BORROW_LIMIT = 3\n",
        "\n",
        "    def borrow_book(self, book: Book):\n",
        "        if len(self._borrowed_books) >= StudentMember.BORROW_LIMIT:\n",
        "            print(f\"{self.name} has reached the borrow limit.\")\n",
        "            return False\n",
        "        if book.borrow():\n",
        "            self._borrowed_books.append(book)\n",
        "            print(f\"{self.name} borrowed '{book.title}'.\")\n",
        "            return True\n",
        "        print(f\"'{book.title}' is already borrowed.\")\n",
        "        return False\n",
        "\n",
        "\n",
        "class TeacherMember(Member):\n",
        "    BORROW_LIMIT = 5\n",
        "\n",
        "    def borrow_book(self, book: Book):\n",
        "        if len(self._borrowed_books) >= TeacherMember.BORROW_LIMIT:\n",
        "            print(f\"{self.name} has reached the borrow limit.\")\n",
        "            return False\n",
        "        if book.borrow():\n",
        "            self._borrowed_books.append(book)\n",
        "            print(f\"{self.name} borrowed '{book.title}'.\")\n",
        "            return True\n",
        "        print(f\"'{book.title}' is already borrowed.\")\n",
        "        return False\n",
        "\n",
        "\n",
        "# LIBRARY CLASS\n",
        "\n",
        "class Library:\n",
        "    def __init__(self, name: str):\n",
        "        self.__library_name = name  # Private attribute\n",
        "        self.books: List[Book] = []\n",
        "        self.members: List[Member] = []\n",
        "\n",
        "    # Add book/member\n",
        "    def add_book(self, book: Book):\n",
        "        self.books.append(book)\n",
        "\n",
        "    def add_member(self, member: Member):\n",
        "        self.members.append(member)\n",
        "\n",
        "    # Iterator over books\n",
        "    def __iter__(self):\n",
        "        self._book_index = 0\n",
        "        return self\n",
        "\n",
        "    def __next__(self):\n",
        "        if self._book_index < len(self.books):\n",
        "            book = self.books[self._book_index]\n",
        "            self._book_index += 1\n",
        "            return book\n",
        "        else:\n",
        "            raise StopIteration\n",
        "\n",
        "    # Search books\n",
        "    def search_books(self, keyword: str):\n",
        "        results = [book for book in self.books if keyword.lower() in book.title.lower()\n",
        "                   or keyword.lower() in book.author.lower()]\n",
        "        return results\n",
        "\n",
        "    # Getter for private attribute\n",
        "    def get_library_name(self):\n",
        "        return self.__library_name\n",
        "\n",
        "\n",
        "# DEMONSTRATION\n",
        "if __name__ == \"__main__\":\n",
        "    # Create library\n",
        "    my_library = Library(\"Central Library\")\n",
        "\n",
        "    # Add books\n",
        "    b1 = EBook(\"Python Programming\", \"John Doe\", 2020, 5, \"PDF\")\n",
        "    b2 = PrintedBook(\"Data Science Handbook\", \"Jane Smith\", 2018, 1.2, \"21x29cm\")\n",
        "    b3 = PrintedBook(\"AI Basics\", \"Alan Turing\", 1950, 0.8, \"20x25cm\")\n",
        "    my_library.add_book(b1)\n",
        "    my_library.add_book(b2)\n",
        "    my_library.add_book(b3)\n",
        "\n",
        "    # Add members\n",
        "    s1 = StudentMember(\"Alice\", 101)\n",
        "    t1 = TeacherMember(\"Professor Bob\", 201)\n",
        "    my_library.add_member(s1)\n",
        "    my_library.add_member(t1)\n",
        "\n",
        "    # Borrowing books\n",
        "    s1.borrow_book(b1)\n",
        "    s1.borrow_book(b2)\n",
        "    t1.borrow_book(b3)\n",
        "    t1.borrow_book(b1)  # Already borrowed\n",
        "\n",
        "    print(\"\\n--- Library Books ---\")\n",
        "    for book in my_library:\n",
        "        status = \"Borrowed\" if book.is_borrowed() else \"Available\"\n",
        "        print(f\"{book.get_description()} - {status}\")\n",
        "\n",
        "    print(\"\\n--- Members' Borrowed Books ---\")\n",
        "    for member in my_library.members:\n",
        "        print(f\"{member.name} has borrowed:\")\n",
        "        for book in member:\n",
        "            print(f\"  - {book.get_description()}\")\n",
        "\n",
        "    print(\"\\n--- Search Books by 'Python' ---\")\n",
        "    results = my_library.search_books(\"Python\")\n",
        "    for book in results:\n",
        "        print(book.get_description())\n",
        "\n",
        "    print(\"\\nTotal books borrowed by all members:\", Book.total_borrowed)\n"
      ]
    },
    {
      "cell_type": "code",
      "execution_count": null,
      "id": "83b88562-846b-4b5f-b6c6-dddcd69e7864",
      "metadata": {
        "id": "83b88562-846b-4b5f-b6c6-dddcd69e7864"
      },
      "outputs": [],
      "source": []
    },
    {
      "cell_type": "code",
      "execution_count": null,
      "id": "e594f956-1df9-4fe5-9296-6f19e21f4665",
      "metadata": {
        "id": "e594f956-1df9-4fe5-9296-6f19e21f4665"
      },
      "outputs": [],
      "source": []
    },
    {
      "cell_type": "code",
      "execution_count": null,
      "id": "26a997dd-935b-41e3-b334-95ad261d77ea",
      "metadata": {
        "id": "26a997dd-935b-41e3-b334-95ad261d77ea"
      },
      "outputs": [],
      "source": []
    },
    {
      "cell_type": "markdown",
      "id": "fb22a098-8119-4579-8633-7a143e1ba3da",
      "metadata": {
        "id": "fb22a098-8119-4579-8633-7a143e1ba3da"
      },
      "source": [
        "##  link to Week 2 publication\n",
        "\n",
        "\n",
        "https://ehima.hashnode.dev/mastering-oop-in-python-with-a-practical-library-system-project"
      ]
    },
    {
      "cell_type": "code",
      "execution_count": null,
      "id": "f0ba1514-7152-479c-a1bf-5e044253e7a7",
      "metadata": {
        "id": "f0ba1514-7152-479c-a1bf-5e044253e7a7"
      },
      "outputs": [],
      "source": []
    }
  ],
  "metadata": {
    "kernelspec": {
      "display_name": "Python [conda env:base] *",
      "language": "python",
      "name": "conda-base-py"
    },
    "language_info": {
      "codemirror_mode": {
        "name": "ipython",
        "version": 3
      },
      "file_extension": ".py",
      "mimetype": "text/x-python",
      "name": "python",
      "nbconvert_exporter": "python",
      "pygments_lexer": "ipython3",
      "version": "3.12.7"
    },
    "colab": {
      "provenance": [],
      "include_colab_link": true
    }
  },
  "nbformat": 4,
  "nbformat_minor": 5
}